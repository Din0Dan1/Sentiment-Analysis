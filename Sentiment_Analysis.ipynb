{
 "cells": [
  {
   "cell_type": "code",
   "execution_count": 1,
   "id": "15ca40c9",
   "metadata": {
    "ExecuteTime": {
     "end_time": "2025-07-16T17:22:08.387129Z",
     "start_time": "2025-07-16T17:21:07.916913Z"
    }
   },
   "outputs": [],
   "source": [
    "import pandas as pd\n",
    "import sklearn as sk\n",
    "import nltk \n",
    "from nltk.corpus import stopwords\n",
    "from sklearn.feature_extraction.text import CountVectorizer, TfidfVectorizer\n",
    "from sklearn.linear_model import LogisticRegression\n",
    "from sklearn.metrics import roc_auc_score, f1_score, confusion_matrix\n",
    "from sklearn.model_selection import train_test_split"
   ]
  },
  {
   "cell_type": "markdown",
   "id": "a2e6efe2",
   "metadata": {},
   "source": [
    "### Importación de los datos y limpieza"
   ]
  },
  {
   "cell_type": "code",
   "execution_count": 2,
   "id": "6c89af7f6793a1d",
   "metadata": {
    "ExecuteTime": {
     "end_time": "2025-07-16T17:22:19.328052Z",
     "start_time": "2025-07-16T17:22:19.314623Z"
    }
   },
   "outputs": [
    {
     "name": "stdout",
     "output_type": "stream",
     "text": [
      "Ruta cargada: C:/Users/jmuri/OneDrive/Escritorio/Stuff/Proyecto aprendizaje automático/archiverotten/rotten_tomatoes_critic_reviews.csv\n"
     ]
    }
   ],
   "source": [
    "import json\n",
    "# Cargar la configuración desde un archivo JSON\n",
    "with open(\"configura_local.json\", encoding=\"utf-8\") as f:\n",
    "    config = json.load(f)\n",
    "\n",
    "print(\"Ruta cargada:\", config[\"data_path\"])"
   ]
  },
  {
   "cell_type": "code",
   "execution_count": 3,
   "id": "ac9bd021",
   "metadata": {
    "ExecuteTime": {
     "end_time": "2025-07-16T17:22:29.235531Z",
     "start_time": "2025-07-16T17:22:23.270953Z"
    }
   },
   "outputs": [],
   "source": [
    "file_path = json.load(open(\"configura_local.json\", encoding=\"utf-8\"))[\"data_path\"]\n",
    "df = pd.read_csv(file_path)"
   ]
  },
  {
   "cell_type": "code",
   "execution_count": 4,
   "id": "be4edb43",
   "metadata": {
    "ExecuteTime": {
     "end_time": "2025-07-16T17:22:30.532273Z",
     "start_time": "2025-07-16T17:22:30.508231Z"
    }
   },
   "outputs": [
    {
     "data": {
      "text/html": [
       "<div>\n",
       "<style scoped>\n",
       "    .dataframe tbody tr th:only-of-type {\n",
       "        vertical-align: middle;\n",
       "    }\n",
       "\n",
       "    .dataframe tbody tr th {\n",
       "        vertical-align: top;\n",
       "    }\n",
       "\n",
       "    .dataframe thead th {\n",
       "        text-align: right;\n",
       "    }\n",
       "</style>\n",
       "<table border=\"1\" class=\"dataframe\">\n",
       "  <thead>\n",
       "    <tr style=\"text-align: right;\">\n",
       "      <th></th>\n",
       "      <th>rotten_tomatoes_link</th>\n",
       "      <th>critic_name</th>\n",
       "      <th>top_critic</th>\n",
       "      <th>publisher_name</th>\n",
       "      <th>review_type</th>\n",
       "      <th>review_score</th>\n",
       "      <th>review_date</th>\n",
       "      <th>review_content</th>\n",
       "    </tr>\n",
       "  </thead>\n",
       "  <tbody>\n",
       "    <tr>\n",
       "      <th>0</th>\n",
       "      <td>m/0814255</td>\n",
       "      <td>Andrew L. Urban</td>\n",
       "      <td>False</td>\n",
       "      <td>Urban Cinefile</td>\n",
       "      <td>Fresh</td>\n",
       "      <td>NaN</td>\n",
       "      <td>2010-02-06</td>\n",
       "      <td>A fantasy adventure that fuses Greek mythology...</td>\n",
       "    </tr>\n",
       "    <tr>\n",
       "      <th>1</th>\n",
       "      <td>m/0814255</td>\n",
       "      <td>Louise Keller</td>\n",
       "      <td>False</td>\n",
       "      <td>Urban Cinefile</td>\n",
       "      <td>Fresh</td>\n",
       "      <td>NaN</td>\n",
       "      <td>2010-02-06</td>\n",
       "      <td>Uma Thurman as Medusa, the gorgon with a coiff...</td>\n",
       "    </tr>\n",
       "    <tr>\n",
       "      <th>2</th>\n",
       "      <td>m/0814255</td>\n",
       "      <td>NaN</td>\n",
       "      <td>False</td>\n",
       "      <td>FILMINK (Australia)</td>\n",
       "      <td>Fresh</td>\n",
       "      <td>NaN</td>\n",
       "      <td>2010-02-09</td>\n",
       "      <td>With a top-notch cast and dazzling special eff...</td>\n",
       "    </tr>\n",
       "    <tr>\n",
       "      <th>3</th>\n",
       "      <td>m/0814255</td>\n",
       "      <td>Ben McEachen</td>\n",
       "      <td>False</td>\n",
       "      <td>Sunday Mail (Australia)</td>\n",
       "      <td>Fresh</td>\n",
       "      <td>3.5/5</td>\n",
       "      <td>2010-02-09</td>\n",
       "      <td>Whether audiences will get behind The Lightnin...</td>\n",
       "    </tr>\n",
       "    <tr>\n",
       "      <th>4</th>\n",
       "      <td>m/0814255</td>\n",
       "      <td>Ethan Alter</td>\n",
       "      <td>True</td>\n",
       "      <td>Hollywood Reporter</td>\n",
       "      <td>Rotten</td>\n",
       "      <td>NaN</td>\n",
       "      <td>2010-02-10</td>\n",
       "      <td>What's really lacking in The Lightning Thief i...</td>\n",
       "    </tr>\n",
       "  </tbody>\n",
       "</table>\n",
       "</div>"
      ],
      "text/plain": [
       "  rotten_tomatoes_link      critic_name  top_critic           publisher_name  \\\n",
       "0            m/0814255  Andrew L. Urban       False           Urban Cinefile   \n",
       "1            m/0814255    Louise Keller       False           Urban Cinefile   \n",
       "2            m/0814255              NaN       False      FILMINK (Australia)   \n",
       "3            m/0814255     Ben McEachen       False  Sunday Mail (Australia)   \n",
       "4            m/0814255      Ethan Alter        True       Hollywood Reporter   \n",
       "\n",
       "  review_type review_score review_date  \\\n",
       "0       Fresh          NaN  2010-02-06   \n",
       "1       Fresh          NaN  2010-02-06   \n",
       "2       Fresh          NaN  2010-02-09   \n",
       "3       Fresh        3.5/5  2010-02-09   \n",
       "4      Rotten          NaN  2010-02-10   \n",
       "\n",
       "                                      review_content  \n",
       "0  A fantasy adventure that fuses Greek mythology...  \n",
       "1  Uma Thurman as Medusa, the gorgon with a coiff...  \n",
       "2  With a top-notch cast and dazzling special eff...  \n",
       "3  Whether audiences will get behind The Lightnin...  \n",
       "4  What's really lacking in The Lightning Thief i...  "
      ]
     },
     "execution_count": 4,
     "metadata": {},
     "output_type": "execute_result"
    }
   ],
   "source": [
    "df.head(5)"
   ]
  },
  {
   "cell_type": "code",
   "execution_count": 5,
   "id": "6c4428c1",
   "metadata": {
    "ExecuteTime": {
     "end_time": "2025-07-16T17:22:34.048108Z",
     "start_time": "2025-07-16T17:22:33.953109Z"
    }
   },
   "outputs": [
    {
     "data": {
      "text/html": [
       "<div>\n",
       "<style scoped>\n",
       "    .dataframe tbody tr th:only-of-type {\n",
       "        vertical-align: middle;\n",
       "    }\n",
       "\n",
       "    .dataframe tbody tr th {\n",
       "        vertical-align: top;\n",
       "    }\n",
       "\n",
       "    .dataframe thead th {\n",
       "        text-align: right;\n",
       "    }\n",
       "</style>\n",
       "<table border=\"1\" class=\"dataframe\">\n",
       "  <thead>\n",
       "    <tr style=\"text-align: right;\">\n",
       "      <th></th>\n",
       "      <th>review_score</th>\n",
       "      <th>review_content</th>\n",
       "    </tr>\n",
       "  </thead>\n",
       "  <tbody>\n",
       "    <tr>\n",
       "      <th>0</th>\n",
       "      <td>NaN</td>\n",
       "      <td>A fantasy adventure that fuses Greek mythology...</td>\n",
       "    </tr>\n",
       "    <tr>\n",
       "      <th>1</th>\n",
       "      <td>NaN</td>\n",
       "      <td>Uma Thurman as Medusa, the gorgon with a coiff...</td>\n",
       "    </tr>\n",
       "    <tr>\n",
       "      <th>2</th>\n",
       "      <td>NaN</td>\n",
       "      <td>With a top-notch cast and dazzling special eff...</td>\n",
       "    </tr>\n",
       "    <tr>\n",
       "      <th>3</th>\n",
       "      <td>3.5/5</td>\n",
       "      <td>Whether audiences will get behind The Lightnin...</td>\n",
       "    </tr>\n",
       "    <tr>\n",
       "      <th>4</th>\n",
       "      <td>NaN</td>\n",
       "      <td>What's really lacking in The Lightning Thief i...</td>\n",
       "    </tr>\n",
       "  </tbody>\n",
       "</table>\n",
       "</div>"
      ],
      "text/plain": [
       "  review_score                                     review_content\n",
       "0          NaN  A fantasy adventure that fuses Greek mythology...\n",
       "1          NaN  Uma Thurman as Medusa, the gorgon with a coiff...\n",
       "2          NaN  With a top-notch cast and dazzling special eff...\n",
       "3        3.5/5  Whether audiences will get behind The Lightnin...\n",
       "4          NaN  What's really lacking in The Lightning Thief i..."
      ]
     },
     "execution_count": 5,
     "metadata": {},
     "output_type": "execute_result"
    }
   ],
   "source": [
    "#Filtrado de columnas que se van a utilizar\n",
    "columnas = ['review_score','review_content']\n",
    "df = df[columnas]\n",
    "df.head(5)"
   ]
  },
  {
   "cell_type": "code",
   "execution_count": 6,
   "id": "9af754f1",
   "metadata": {
    "ExecuteTime": {
     "end_time": "2025-07-16T17:22:38.786918Z",
     "start_time": "2025-07-16T17:22:38.583084Z"
    }
   },
   "outputs": [],
   "source": [
    "# Eliminación de filas con valores nulos\n",
    "df.dropna(inplace=True)"
   ]
  },
  {
   "cell_type": "code",
   "execution_count": 7,
   "id": "47468532",
   "metadata": {
    "ExecuteTime": {
     "end_time": "2025-07-16T17:22:42.503471Z",
     "start_time": "2025-07-16T17:22:42.237104Z"
    }
   },
   "outputs": [],
   "source": [
    "# Diccionario de conversión de letras a escala de 5 como fracción\n",
    "letter_to_score = {\n",
    "    'A': '5/5',\n",
    "    'A-': '4.7/5',\n",
    "    'B+': '4.3/5',\n",
    "    'B': '4/5',\n",
    "    'B-': '3.7/5',\n",
    "    'C+': '3.3/5',\n",
    "    'C': '3/5',\n",
    "    'C-': '2.7/5',\n",
    "    'D+': '2.3/5',\n",
    "    'D': '2/5',\n",
    "    'D-': '1.7/5',\n",
    "    'F': '1/5',\n",
    "}\n",
    "\n",
    "# Función para reemplazar calificaciones de letra\n",
    "def convert_score(score):\n",
    "    score_str = str(score).strip()\n",
    "    if score_str in letter_to_score:\n",
    "        return letter_to_score[score_str]\n",
    "    return score_str  # deja igual si ya es una fracción como \"3.5/5\"\n",
    "\n",
    "# Aplica la función a la columna de calificaciones\n",
    "df['review_score'] = df['review_score'].apply(convert_score)"
   ]
  },
  {
   "cell_type": "code",
   "execution_count": 8,
   "id": "c42bc705",
   "metadata": {
    "ExecuteTime": {
     "end_time": "2025-07-16T16:54:22.090622Z",
     "start_time": "2025-07-16T16:54:22.077494Z"
    }
   },
   "outputs": [
    {
     "data": {
      "text/html": [
       "<div>\n",
       "<style scoped>\n",
       "    .dataframe tbody tr th:only-of-type {\n",
       "        vertical-align: middle;\n",
       "    }\n",
       "\n",
       "    .dataframe tbody tr th {\n",
       "        vertical-align: top;\n",
       "    }\n",
       "\n",
       "    .dataframe thead th {\n",
       "        text-align: right;\n",
       "    }\n",
       "</style>\n",
       "<table border=\"1\" class=\"dataframe\">\n",
       "  <thead>\n",
       "    <tr style=\"text-align: right;\">\n",
       "      <th></th>\n",
       "      <th>review_score</th>\n",
       "      <th>review_content</th>\n",
       "    </tr>\n",
       "  </thead>\n",
       "  <tbody>\n",
       "    <tr>\n",
       "      <th>3</th>\n",
       "      <td>3.5/5</td>\n",
       "      <td>Whether audiences will get behind The Lightnin...</td>\n",
       "    </tr>\n",
       "    <tr>\n",
       "      <th>6</th>\n",
       "      <td>1/4</td>\n",
       "      <td>Harry Potter knockoffs don't come more transpa...</td>\n",
       "    </tr>\n",
       "    <tr>\n",
       "      <th>7</th>\n",
       "      <td>3.5/5</td>\n",
       "      <td>Percy Jackson isn't a great movie, but it's a ...</td>\n",
       "    </tr>\n",
       "    <tr>\n",
       "      <th>8</th>\n",
       "      <td>4/5</td>\n",
       "      <td>Fun, brisk and imaginative</td>\n",
       "    </tr>\n",
       "    <tr>\n",
       "      <th>9</th>\n",
       "      <td>3/5</td>\n",
       "      <td>Crammed with dragons, set-destroying fights an...</td>\n",
       "    </tr>\n",
       "  </tbody>\n",
       "</table>\n",
       "</div>"
      ],
      "text/plain": [
       "  review_score                                     review_content\n",
       "3        3.5/5  Whether audiences will get behind The Lightnin...\n",
       "6          1/4  Harry Potter knockoffs don't come more transpa...\n",
       "7        3.5/5  Percy Jackson isn't a great movie, but it's a ...\n",
       "8          4/5                         Fun, brisk and imaginative\n",
       "9          3/5  Crammed with dragons, set-destroying fights an..."
      ]
     },
     "execution_count": 8,
     "metadata": {},
     "output_type": "execute_result"
    }
   ],
   "source": [
    "df.head(5)"
   ]
  },
  {
   "cell_type": "code",
   "execution_count": 9,
   "id": "334c0750",
   "metadata": {
    "ExecuteTime": {
     "end_time": "2025-07-16T17:22:51.882904Z",
     "start_time": "2025-07-16T17:22:50.973852Z"
    }
   },
   "outputs": [],
   "source": [
    "# Convertir fracciones a número decimal\n",
    "def fraction_to_float(score_str):\n",
    "    try:\n",
    "        num, den = score_str.split('/')\n",
    "        return float(num) / float(den)\n",
    "    except:\n",
    "        return None  # para manejar errores o valores inesperados\n",
    "\n",
    "df['review_score'] = df['review_score'].apply(fraction_to_float)\n"
   ]
  },
  {
   "cell_type": "code",
   "execution_count": 10,
   "id": "709adab2",
   "metadata": {
    "ExecuteTime": {
     "end_time": "2025-07-16T16:54:35.425702Z",
     "start_time": "2025-07-16T16:54:35.413814Z"
    }
   },
   "outputs": [
    {
     "data": {
      "text/html": [
       "<div>\n",
       "<style scoped>\n",
       "    .dataframe tbody tr th:only-of-type {\n",
       "        vertical-align: middle;\n",
       "    }\n",
       "\n",
       "    .dataframe tbody tr th {\n",
       "        vertical-align: top;\n",
       "    }\n",
       "\n",
       "    .dataframe thead th {\n",
       "        text-align: right;\n",
       "    }\n",
       "</style>\n",
       "<table border=\"1\" class=\"dataframe\">\n",
       "  <thead>\n",
       "    <tr style=\"text-align: right;\">\n",
       "      <th></th>\n",
       "      <th>review_score</th>\n",
       "      <th>review_content</th>\n",
       "    </tr>\n",
       "  </thead>\n",
       "  <tbody>\n",
       "    <tr>\n",
       "      <th>3</th>\n",
       "      <td>0.70</td>\n",
       "      <td>Whether audiences will get behind The Lightnin...</td>\n",
       "    </tr>\n",
       "    <tr>\n",
       "      <th>6</th>\n",
       "      <td>0.25</td>\n",
       "      <td>Harry Potter knockoffs don't come more transpa...</td>\n",
       "    </tr>\n",
       "    <tr>\n",
       "      <th>7</th>\n",
       "      <td>0.70</td>\n",
       "      <td>Percy Jackson isn't a great movie, but it's a ...</td>\n",
       "    </tr>\n",
       "    <tr>\n",
       "      <th>8</th>\n",
       "      <td>0.80</td>\n",
       "      <td>Fun, brisk and imaginative</td>\n",
       "    </tr>\n",
       "    <tr>\n",
       "      <th>9</th>\n",
       "      <td>0.60</td>\n",
       "      <td>Crammed with dragons, set-destroying fights an...</td>\n",
       "    </tr>\n",
       "  </tbody>\n",
       "</table>\n",
       "</div>"
      ],
      "text/plain": [
       "   review_score                                     review_content\n",
       "3          0.70  Whether audiences will get behind The Lightnin...\n",
       "6          0.25  Harry Potter knockoffs don't come more transpa...\n",
       "7          0.70  Percy Jackson isn't a great movie, but it's a ...\n",
       "8          0.80                         Fun, brisk and imaginative\n",
       "9          0.60  Crammed with dragons, set-destroying fights an..."
      ]
     },
     "execution_count": 10,
     "metadata": {},
     "output_type": "execute_result"
    }
   ],
   "source": [
    "df.head(5)"
   ]
  },
  {
   "cell_type": "code",
   "execution_count": 11,
   "id": "2b7b8932",
   "metadata": {
    "ExecuteTime": {
     "end_time": "2025-07-16T17:22:56.209769Z",
     "start_time": "2025-07-16T17:22:56.169161Z"
    }
   },
   "outputs": [
    {
     "name": "stdout",
     "output_type": "stream",
     "text": [
      "Mediana de review_score: 0.66\n"
     ]
    }
   ],
   "source": [
    "# Calcular la mediana\n",
    "median_score = df['review_score'].median()\n",
    "print(\"Mediana de review_score:\", round(median_score, 3))"
   ]
  },
  {
   "cell_type": "code",
   "execution_count": 12,
   "id": "c434c061",
   "metadata": {
    "ExecuteTime": {
     "end_time": "2025-07-16T17:22:59.591417Z",
     "start_time": "2025-07-16T17:22:59.377265Z"
    }
   },
   "outputs": [],
   "source": [
    "# Clasificar como 'positivo' si el score es mayor que la mediana, si no, 'negativo'\n",
    "df['sentiment'] = df['review_score'].apply(\n",
    "    lambda x: 'positivo' if x >= median_score else 'negativo'\n",
    ")"
   ]
  },
  {
   "cell_type": "code",
   "execution_count": 13,
   "id": "4cd610fa",
   "metadata": {
    "ExecuteTime": {
     "end_time": "2025-07-16T16:54:56.419217Z",
     "start_time": "2025-07-16T16:54:56.396764Z"
    }
   },
   "outputs": [
    {
     "data": {
      "text/html": [
       "<div>\n",
       "<style scoped>\n",
       "    .dataframe tbody tr th:only-of-type {\n",
       "        vertical-align: middle;\n",
       "    }\n",
       "\n",
       "    .dataframe tbody tr th {\n",
       "        vertical-align: top;\n",
       "    }\n",
       "\n",
       "    .dataframe thead th {\n",
       "        text-align: right;\n",
       "    }\n",
       "</style>\n",
       "<table border=\"1\" class=\"dataframe\">\n",
       "  <thead>\n",
       "    <tr style=\"text-align: right;\">\n",
       "      <th></th>\n",
       "      <th>review_score</th>\n",
       "      <th>review_content</th>\n",
       "      <th>sentiment</th>\n",
       "    </tr>\n",
       "  </thead>\n",
       "  <tbody>\n",
       "    <tr>\n",
       "      <th>3</th>\n",
       "      <td>0.70</td>\n",
       "      <td>Whether audiences will get behind The Lightnin...</td>\n",
       "      <td>positivo</td>\n",
       "    </tr>\n",
       "    <tr>\n",
       "      <th>6</th>\n",
       "      <td>0.25</td>\n",
       "      <td>Harry Potter knockoffs don't come more transpa...</td>\n",
       "      <td>negativo</td>\n",
       "    </tr>\n",
       "    <tr>\n",
       "      <th>7</th>\n",
       "      <td>0.70</td>\n",
       "      <td>Percy Jackson isn't a great movie, but it's a ...</td>\n",
       "      <td>positivo</td>\n",
       "    </tr>\n",
       "    <tr>\n",
       "      <th>8</th>\n",
       "      <td>0.80</td>\n",
       "      <td>Fun, brisk and imaginative</td>\n",
       "      <td>positivo</td>\n",
       "    </tr>\n",
       "    <tr>\n",
       "      <th>9</th>\n",
       "      <td>0.60</td>\n",
       "      <td>Crammed with dragons, set-destroying fights an...</td>\n",
       "      <td>negativo</td>\n",
       "    </tr>\n",
       "    <tr>\n",
       "      <th>...</th>\n",
       "      <td>...</td>\n",
       "      <td>...</td>\n",
       "      <td>...</td>\n",
       "    </tr>\n",
       "    <tr>\n",
       "      <th>1130006</th>\n",
       "      <td>0.80</td>\n",
       "      <td>As a spectacular war film with a powerful mora...</td>\n",
       "      <td>positivo</td>\n",
       "    </tr>\n",
       "    <tr>\n",
       "      <th>1130013</th>\n",
       "      <td>0.70</td>\n",
       "      <td>Seen today, it's not only a startling indictme...</td>\n",
       "      <td>positivo</td>\n",
       "    </tr>\n",
       "    <tr>\n",
       "      <th>1130014</th>\n",
       "      <td>0.86</td>\n",
       "      <td>A rousing visual spectacle that's a prequel of...</td>\n",
       "      <td>positivo</td>\n",
       "    </tr>\n",
       "    <tr>\n",
       "      <th>1130015</th>\n",
       "      <td>0.70</td>\n",
       "      <td>A simple two-act story: Prelude to war, and th...</td>\n",
       "      <td>positivo</td>\n",
       "    </tr>\n",
       "    <tr>\n",
       "      <th>1130016</th>\n",
       "      <td>0.60</td>\n",
       "      <td>Rides the line between being a pure artifact o...</td>\n",
       "      <td>negativo</td>\n",
       "    </tr>\n",
       "  </tbody>\n",
       "</table>\n",
       "<p>758709 rows × 3 columns</p>\n",
       "</div>"
      ],
      "text/plain": [
       "         review_score                                     review_content  \\\n",
       "3                0.70  Whether audiences will get behind The Lightnin...   \n",
       "6                0.25  Harry Potter knockoffs don't come more transpa...   \n",
       "7                0.70  Percy Jackson isn't a great movie, but it's a ...   \n",
       "8                0.80                         Fun, brisk and imaginative   \n",
       "9                0.60  Crammed with dragons, set-destroying fights an...   \n",
       "...               ...                                                ...   \n",
       "1130006          0.80  As a spectacular war film with a powerful mora...   \n",
       "1130013          0.70  Seen today, it's not only a startling indictme...   \n",
       "1130014          0.86  A rousing visual spectacle that's a prequel of...   \n",
       "1130015          0.70  A simple two-act story: Prelude to war, and th...   \n",
       "1130016          0.60  Rides the line between being a pure artifact o...   \n",
       "\n",
       "        sentiment  \n",
       "3        positivo  \n",
       "6        negativo  \n",
       "7        positivo  \n",
       "8        positivo  \n",
       "9        negativo  \n",
       "...           ...  \n",
       "1130006  positivo  \n",
       "1130013  positivo  \n",
       "1130014  positivo  \n",
       "1130015  positivo  \n",
       "1130016  negativo  \n",
       "\n",
       "[758709 rows x 3 columns]"
      ]
     },
     "execution_count": 13,
     "metadata": {},
     "output_type": "execute_result"
    }
   ],
   "source": [
    "df"
   ]
  },
  {
   "cell_type": "code",
   "execution_count": 14,
   "id": "163ca8b1",
   "metadata": {
    "ExecuteTime": {
     "end_time": "2025-07-16T17:23:04.186428Z",
     "start_time": "2025-07-16T17:23:04.134432Z"
    }
   },
   "outputs": [
    {
     "name": "stdout",
     "output_type": "stream",
     "text": [
      "sentiment\n",
      "positivo    386805\n",
      "negativo    371904\n",
      "Name: count, dtype: int64\n"
     ]
    }
   ],
   "source": [
    "# Conteo de valores positivos y negativos de la columna 'sentiment'\n",
    "print(df['sentiment'].value_counts())"
   ]
  },
  {
   "cell_type": "markdown",
   "id": "e4c4024378567b6e",
   "metadata": {},
   "source": [
    "No queda balanceado exacto, pero resulta suficiente"
   ]
  },
  {
   "cell_type": "code",
   "execution_count": 15,
   "id": "7d95f466",
   "metadata": {
    "ExecuteTime": {
     "end_time": "2025-07-16T17:23:10.765538Z",
     "start_time": "2025-07-16T17:23:10.611766Z"
    }
   },
   "outputs": [
    {
     "name": "stderr",
     "output_type": "stream",
     "text": [
      "C:\\Users\\jmuri\\AppData\\Local\\Temp\\ipykernel_24680\\683694738.py:7: SettingWithCopyWarning: \n",
      "A value is trying to be set on a copy of a slice from a DataFrame.\n",
      "Try using .loc[row_indexer,col_indexer] = value instead\n",
      "\n",
      "See the caveats in the documentation: https://pandas.pydata.org/pandas-docs/stable/user_guide/indexing.html#returning-a-view-versus-a-copy\n",
      "  df['sentiment'] = df['sentiment'].map(target_map)\n"
     ]
    },
    {
     "data": {
      "text/html": [
       "<div>\n",
       "<style scoped>\n",
       "    .dataframe tbody tr th:only-of-type {\n",
       "        vertical-align: middle;\n",
       "    }\n",
       "\n",
       "    .dataframe tbody tr th {\n",
       "        vertical-align: top;\n",
       "    }\n",
       "\n",
       "    .dataframe thead th {\n",
       "        text-align: right;\n",
       "    }\n",
       "</style>\n",
       "<table border=\"1\" class=\"dataframe\">\n",
       "  <thead>\n",
       "    <tr style=\"text-align: right;\">\n",
       "      <th></th>\n",
       "      <th>review_content</th>\n",
       "      <th>sentiment</th>\n",
       "    </tr>\n",
       "  </thead>\n",
       "  <tbody>\n",
       "    <tr>\n",
       "      <th>3</th>\n",
       "      <td>Whether audiences will get behind The Lightnin...</td>\n",
       "      <td>1</td>\n",
       "    </tr>\n",
       "    <tr>\n",
       "      <th>6</th>\n",
       "      <td>Harry Potter knockoffs don't come more transpa...</td>\n",
       "      <td>0</td>\n",
       "    </tr>\n",
       "    <tr>\n",
       "      <th>7</th>\n",
       "      <td>Percy Jackson isn't a great movie, but it's a ...</td>\n",
       "      <td>1</td>\n",
       "    </tr>\n",
       "    <tr>\n",
       "      <th>8</th>\n",
       "      <td>Fun, brisk and imaginative</td>\n",
       "      <td>1</td>\n",
       "    </tr>\n",
       "    <tr>\n",
       "      <th>9</th>\n",
       "      <td>Crammed with dragons, set-destroying fights an...</td>\n",
       "      <td>0</td>\n",
       "    </tr>\n",
       "  </tbody>\n",
       "</table>\n",
       "</div>"
      ],
      "text/plain": [
       "                                      review_content  sentiment\n",
       "3  Whether audiences will get behind The Lightnin...          1\n",
       "6  Harry Potter knockoffs don't come more transpa...          0\n",
       "7  Percy Jackson isn't a great movie, but it's a ...          1\n",
       "8                         Fun, brisk and imaginative          1\n",
       "9  Crammed with dragons, set-destroying fights an...          0"
      ]
     },
     "execution_count": 15,
     "metadata": {},
     "output_type": "execute_result"
    }
   ],
   "source": [
    "# Filtrar las columnas que se van a utilizar\n",
    "df = df[['review_content', 'sentiment']]\n",
    "\n",
    "# Cambio de etiquetas de sentimiento a valores numéricos \n",
    "# 'positivo' a 1 y 'negativo' a 0\n",
    "target_map = {'positivo': 1, 'negativo': 0}\n",
    "df['sentiment'] = df['sentiment'].map(target_map)\n",
    "df.head(5)"
   ]
  },
  {
   "cell_type": "markdown",
   "id": "e1ee33c8f3a437f7",
   "metadata": {},
   "source": [
    "Vamos entonces a crear nuestra división Train/Test"
   ]
  },
  {
   "cell_type": "code",
   "execution_count": 16,
   "id": "279847174052ceb5",
   "metadata": {
    "ExecuteTime": {
     "end_time": "2025-07-19T05:46:47.247539Z",
     "start_time": "2025-07-19T05:46:45.535865Z"
    }
   },
   "outputs": [
    {
     "name": "stdout",
     "output_type": "stream",
     "text": [
      "Entrenamiento: (606967,) (606967,)\n",
      "Testeo: (151742,) (151742,)\n"
     ]
    }
   ],
   "source": [
    "# Definir X e y\n",
    "X = df['review_content']\n",
    "y = df['sentiment']\n",
    "\n",
    "# Dividir en entrenamiento y prueba\n",
    "X_train, X_test, y_train, y_test = train_test_split(X, y, test_size=0.2, random_state=42) #80% entrenamiento, 20% testeo\n",
    "\n",
    "# Verificación\n",
    "print(\"Entrenamiento:\", X_train.shape, y_train.shape)\n",
    "print(\"Testeo:\", X_test.shape, y_test.shape)\n"
   ]
  },
  {
   "cell_type": "markdown",
   "id": "bf36dfd6",
   "metadata": {},
   "source": [
    "### Modelamiento"
   ]
  },
  {
   "cell_type": "markdown",
   "id": "ae5299c1beb4cfa8",
   "metadata": {},
   "source": [
    "## Modelo Meme\n",
    "Para empezar, vampos a  immplementar un modelo muy sencillo que tiene 50% de error. Nuestro trabajo será en las siguientes implementaciones mejorar los errores paulatinamente."
   ]
  },
  {
   "cell_type": "code",
   "execution_count": 18,
   "id": "5a24741ba5e6c990",
   "metadata": {
    "ExecuteTime": {
     "end_time": "2025-07-19T05:53:32.395745Z",
     "start_time": "2025-07-19T05:53:32.011912Z"
    }
   },
   "outputs": [
    {
     "name": "stdout",
     "output_type": "stream",
     "text": [
      "Accuracy: 0.4997693453361627\n",
      "F1 Score: 0.5052082654325012\n"
     ]
    }
   ],
   "source": [
    "import numpy as np\n",
    "from sklearn.metrics import accuracy_score, f1_score\n",
    "\n",
    "# Genera etiquetas aleatorias (0 o 1) para el conjunto de prueba\n",
    "y_pred_random = np.random.choice([0, 1], size=len(y_test))\n",
    "\n",
    "# Evalúa el desempeño del modelo aleatorio\n",
    "print(\"Accuracy:\", accuracy_score(y_test, y_pred_random))\n",
    "print(\"F1 Score:\", f1_score(y_test, y_pred_random))"
   ]
  },
  {
   "cell_type": "markdown",
   "id": "e3626d3febbef303",
   "metadata": {},
   "source": [
    "Como era de esperarse el modelo solo calsifica bien el 50% de los datos"
   ]
  },
  {
   "cell_type": "markdown",
   "id": "5743429861760064",
   "metadata": {},
   "source": [
    "## Modelo de Vocabularios\n",
    "Haremos un conteo de frecuencias, empíricamente y apoyándonos de la teoría encontraremos las expresiones que más se repiten en cada clase. Ejemplo: \"awful\" siendo muy presente en los textos negativos y \"great\" en textos positivos"
   ]
  },
  {
   "cell_type": "markdown",
   "id": "f2e0973542a2816a",
   "metadata": {},
   "source": [
    "Pero primero debemos hacer otra capa de preprocesamiento de los datos. Por el momoento, las observaciones en la base de datos df consisten solo de texto. Le haremos una tokenización, dividirlo en palabras, frases o caracteres, para hacer luego el conteo de frecuencias. Nos centraremos en eliminar puntuaciones indeseadas (mantenemos \"!\" y \"?\") y categorías gramaticales como artículos, preposiciones, conjunciones,..., también conectores que no alteren la polaridad a"
   ]
  },
  {
   "cell_type": "code",
   "execution_count": null,
   "id": "58faf6e74a60c73b",
   "metadata": {
    "ExecuteTime": {
     "end_time": "2025-07-19T06:17:35.725725Z",
     "start_time": "2025-07-19T06:17:35.699535Z"
    }
   },
   "outputs": [
    {
     "name": "stderr",
     "output_type": "stream",
     "text": [
      "[nltk_data] Downloading package punkt to\n",
      "[nltk_data]     C:\\Users\\jmuri\\AppData\\Roaming\\nltk_data...\n",
      "[nltk_data]   Package punkt is already up-to-date!\n",
      "[nltk_data] Downloading package stopwords to\n",
      "[nltk_data]     C:\\Users\\jmuri\\AppData\\Roaming\\nltk_data...\n",
      "[nltk_data]   Package stopwords is already up-to-date!\n"
     ]
    },
    {
     "data": {
      "text/plain": [
       "True"
      ]
     },
     "execution_count": 16,
     "metadata": {},
     "output_type": "execute_result"
    }
   ],
   "source": [
    "import re\n",
    "import nltk\n",
    "from nltk.corpus import stopwords\n",
    "from nltk.tokenize import word_tokenize\n",
    "\n",
    "# Descargar recursos si no están\n",
    "#nltk.download('punkt')\n",
    "#nltk.download('stopwords')"
   ]
  },
  {
   "cell_type": "code",
   "execution_count": null,
   "id": "d8577a2aa6f6c2d",
   "metadata": {
    "ExecuteTime": {
     "end_time": "2025-07-19T07:06:47.016795Z",
     "start_time": "2025-07-19T07:06:46.999700Z"
    }
   },
   "outputs": [
    {
     "name": "stderr",
     "output_type": "stream",
     "text": [
      "[nltk_data] Downloading package punkt_tab to\n",
      "[nltk_data]     C:\\Users\\jmuri\\AppData\\Roaming\\nltk_data...\n",
      "[nltk_data]   Package punkt_tab is already up-to-date!\n"
     ]
    },
    {
     "data": {
      "text/plain": [
       "['not', 'good', '?']"
      ]
     },
     "execution_count": 17,
     "metadata": {},
     "output_type": "execute_result"
    }
   ],
   "source": [
    "#import nltk\n",
    "#nltk.download('punkt_tab')\n",
    "def tokenizar_con_signos(texto):\n",
    "    # Separar ? y ! con espacio si están pegados a una palabra\n",
    "    texto = re.sub(r\"([!?])\", r\" \\1 \", texto)\n",
    "    texto = re.sub(r\"\\s+\", \" \", texto)  # limpiar espacios duplicados\n",
    "    return word_tokenize(texto.lower())\n",
    "tokenizar_con_signos(\"That was great!\")  # → ['that', 'was', 'great', '!']\n",
    "tokenizar_con_signos(\"Not good?\")        # → ['not', 'good', '?']\n"
   ]
  },
  {
   "cell_type": "code",
   "execution_count": 18,
   "id": "9207a9994695a57d",
   "metadata": {
    "ExecuteTime": {
     "end_time": "2025-07-19T07:18:49.217474Z",
     "start_time": "2025-07-19T07:18:49.182607Z"
    }
   },
   "outputs": [
    {
     "name": "stdout",
     "output_type": "stream",
     "text": [
      "['wow', '!', 'not', 'expect', 'movie', '?', 'absolutely', 'great', '!', 'but', 'friend', 'didnt', 'like']\n"
     ]
    }
   ],
   "source": [
    "# Función para limpiar texto y tokenizar\n",
    "def limpiar_texto(texto):\n",
    "    \"\"\"\n",
    "    Preprocesa un texto: lo pasa a minúsculas, elimina puntuación (excepto ? y !),\n",
    "    tokeniza, y opcionalmente elimina stopwords.\n",
    "    \"\"\"\n",
    "    # 1. Minúsculas\n",
    "    texto = texto.lower()\n",
    "\n",
    "    # 2. Eliminar puntuación excepto ? y !\n",
    "    texto = re.sub(r\"([!?])\", r\" \\1 \", texto) #Separa ? y ! con espacio\n",
    "    texto = re.sub(r\"\\s+\", \" \", texto)  # limpiar espacios duplicados\n",
    "    texto = re.sub(r\"[^a-zA-Z\\s!?]\", \"\", texto) # elimina todo excepto letras, números, espacios, ? y !\n",
    "\n",
    "    # 3. Tokenizar\n",
    "    tokens = word_tokenize(texto)\n",
    "\n",
    "    # 4. Eliminar stopwords:\n",
    "    sw = set(stopwords.words('english')) - {\"not\", \"no\", \"nor\", \"don\", \"won\",  \"but\"}  # conservamos palabras clave\n",
    "    tokens = [word for word in tokens if word not in sw]\n",
    "\n",
    "    return tokens\n",
    "\n",
    "print(limpiar_texto(\"Wow! I did **not** expect that... 10/10 movie? Absolutely great! But my friend didn't like it.\"))"
   ]
  },
  {
   "cell_type": "code",
   "execution_count": null,
   "id": "42e34096075f553c",
   "metadata": {
    "ExecuteTime": {
     "end_time": "2025-07-19T08:05:29.009770Z",
     "start_time": "2025-07-19T07:59:54.261582Z"
    }
   },
   "outputs": [],
   "source": [
    "from collections import Counter\n",
    "\n",
    "# Tokenizar con la función que creamos personalizada limpiar_texto\n",
    "X_train['tokens'] = X_train.apply(limpiar_texto)"
   ]
  },
  {
   "cell_type": "code",
   "execution_count": 41,
   "id": "cfeec4bff6428aba",
   "metadata": {
    "ExecuteTime": {
     "end_time": "2025-07-19T08:11:09.141397Z",
     "start_time": "2025-07-19T08:10:59.419165Z"
    }
   },
   "outputs": [],
   "source": [
    "# Aplanamos la lista de listas\n",
    "todos_los_tokens_positivos = [\n",
    "    token for tokens, label in zip(X_train[\"tokens\"], y_train) if label == 1 for token in tokens\n",
    "]\n",
    "\n",
    "todos_los_tokens_negativos = [\n",
    "    token for tokens, label in zip(X_train[\"tokens\"], y_train) if label == 0 for token in tokens\n",
    "]\n",
    "\n",
    "# Contamos frecuencias\n",
    "conteo_unigramas_pos = Counter(todos_los_tokens_positivos)\n",
    "conteo_unigramas_neg = Counter(todos_los_tokens_negativos)"
   ]
  },
  {
   "cell_type": "code",
   "execution_count": 52,
   "id": "b6837af7fe6779da",
   "metadata": {
    "ExecuteTime": {
     "end_time": "2025-07-19T08:24:32.037218Z",
     "start_time": "2025-07-19T08:24:31.978766Z"
    }
   },
   "outputs": [
    {
     "name": "stdout",
     "output_type": "stream",
     "text": [
      "Positivos:\n"
     ]
    },
    {
     "data": {
      "text/plain": [
       "[('but', 51786),\n",
       " ('film', 50362),\n",
       " ('movie', 32725),\n",
       " ('one', 28735),\n",
       " ('not', 25700),\n",
       " ('like', 18357),\n",
       " ('story', 18082),\n",
       " ('best', 14571),\n",
       " ('good', 12462),\n",
       " ('films', 12329)]"
      ]
     },
     "execution_count": 52,
     "metadata": {},
     "output_type": "execute_result"
    }
   ],
   "source": [
    "# Mostramos los 20 más comunes\n",
    "print(\"Positivos:\")\n",
    "conteo_unigramas_pos.most_common(10)\n",
    "#print(\"Negativos:\")\n",
    "#conteo_unigramas_neg.most_common(10)"
   ]
  },
  {
   "cell_type": "markdown",
   "id": "8d16fdaa4a8fe40a",
   "metadata": {},
   "source": [
    "A continuación clasificamos cada unigrama en postitivo, neutro o negativo según está predominantemente en textos clasificados positivos o negativos."
   ]
  },
  {
   "cell_type": "code",
   "execution_count": 99,
   "id": "174ae58032921ce4",
   "metadata": {
    "ExecuteTime": {
     "end_time": "2025-07-19T10:03:37.071464Z",
     "start_time": "2025-07-19T10:03:36.729880Z"
    }
   },
   "outputs": [
    {
     "name": "stdout",
     "output_type": "stream",
     "text": [
      "[('shortlisted', '0'), ('cominatya', '0'), ('gothvampire', '0'), ('renversant', '0'), ('cantante', '-'), ('theatricality', '+'), ('kindafter', '-'), ('stinginess', '0'), ('presentdayonthesurfacemodern', '0'), ('specials', '0'), ('willwell', '0'), ('whoopee', '-'), ('styling', '0'), ('poorlyplotted', '0'), ('rompits', '0'), ('gladiatorially', '0'), ('nutsandbolts', '-'), ('heydrichrightfully', '0'), ('pseudomedieval', '0'), ('importara', '0'), ('allenstein', '0'), ('truthwhether', '0'), ('unhallowed', '0'), ('filippo', '0'), ('festor', '0'), ('deseja', '+'), ('confidante', '0'), ('terrariums', '0'), ('uncomfortable', '0'), ('nicolascage', '0')]\n"
     ]
    }
   ],
   "source": [
    "def clasificar_unigramas(conteo_pos, conteo_neg, alpha=0.33):\n",
    "    clasificacion = {}\n",
    "    todos_los_tokens = set(conteo_pos) | set(conteo_neg)\n",
    "    \n",
    "    for token in todos_los_tokens:\n",
    "        pos = conteo_pos.get(token, 0)\n",
    "        neg = conteo_neg.get(token, 0)\n",
    "\n",
    "        ratio = (pos + 1/alpha)/(pos + neg + 2/alpha) # para evitar división por cero y suavizar hacia 1/2 para evitar sobreajuste por bajas frecuencias\n",
    "        if ratio > 1 - alpha:\n",
    "            clasificacion[token] = \"+\"\n",
    "        elif ratio < alpha:\n",
    "            clasificacion[token] = \"-\"\n",
    "        else:\n",
    "            clasificacion[token] = \"0\"\n",
    "    \n",
    "    return clasificacion\n",
    "\n",
    "clasificaciones = clasificar_unigramas(conteo_unigramas_pos, conteo_unigramas_neg, alpha=0.4)\n",
    "# Imprime solo los primeros 50 tokens clasificados\n",
    "print(list(clasificaciones.items())[:30])"
   ]
  },
  {
   "cell_type": "code",
   "execution_count": 100,
   "id": "671e0d30b6df6338",
   "metadata": {
    "ExecuteTime": {
     "end_time": "2025-07-19T10:03:57.099430Z",
     "start_time": "2025-07-19T10:03:57.076720Z"
    }
   },
   "outputs": [
    {
     "name": "stdout",
     "output_type": "stream",
     "text": [
      "Positivos: 24272\n",
      "Negativos: 25228\n",
      "Neutros: 111409\n"
     ]
    }
   ],
   "source": [
    "conteo_clasificaciones = Counter(clasificaciones.values())\n",
    "print(\"Positivos:\", conteo_clasificaciones[\"+\"])\n",
    "print(\"Negativos:\", conteo_clasificaciones[\"-\"])\n",
    "print(\"Neutros:\", conteo_clasificaciones[\"0\"])"
   ]
  },
  {
   "cell_type": "code",
   "execution_count": 103,
   "id": "fc2c31aaacf1b311",
   "metadata": {
    "ExecuteTime": {
     "end_time": "2025-07-19T10:39:00.736967Z",
     "start_time": "2025-07-19T10:39:00.579027Z"
    }
   },
   "outputs": [],
   "source": [
    "import numpy as np\n",
    "from sklearn.metrics import accuracy_score, f1_score\n",
    "\n",
    "def clasificar_texto_voto(texto, clasificaciones, tokenizer):\n",
    "    tokens = tokenizer(texto)\n",
    "    votos = [clasificaciones.get(t, \"0\") for t in tokens]\n",
    "    positivos = votos.count(\"+\")\n",
    "    negativos = votos.count(\"-\")\n",
    "    \n",
    "    if positivos > negativos:\n",
    "        return 1\n",
    "    elif negativos > positivos:\n",
    "        return 0\n",
    "    else:\n",
    "        return np.random.choice([0, 1])  # desempate aleatorio"
   ]
  },
  {
   "cell_type": "code",
   "execution_count": 102,
   "id": "9f1c94794404171b",
   "metadata": {
    "ExecuteTime": {
     "end_time": "2025-07-19T10:12:00.061316Z",
     "start_time": "2025-07-19T10:11:12.524478Z"
    }
   },
   "outputs": [
    {
     "name": "stdout",
     "output_type": "stream",
     "text": [
      "Accuracy: 0.7228387657998445\n",
      "F1 Score: 0.750319099042406\n"
     ]
    }
   ],
   "source": [
    "\n",
    "# Aplica el clasificador a cada texto del conjunto de prueba\n",
    "y_pred_voto = X_test.apply(lambda texto: clasificar_texto_voto(texto, clasificaciones, limpiar_texto))\n",
    "\n",
    "# Evalúa el desempeño\n",
    "print(\"Accuracy:\", accuracy_score(y_test, y_pred_voto))\n",
    "print(\"F1 Score:\", f1_score(y_test, y_pred_voto))\n"
   ]
  },
  {
   "cell_type": "code",
   "execution_count": 104,
   "id": "40d2b54845e5cd00",
   "metadata": {
    "ExecuteTime": {
     "end_time": "2025-07-19T10:40:33.485208Z",
     "start_time": "2025-07-19T10:40:33.382975Z"
    }
   },
   "outputs": [],
   "source": [
    "def puntaje_sentimiento(texto, clasificaciones):\n",
    "    tokens = limpiar_texto(texto)  # usa tu tokenizer\n",
    "    score = 0\n",
    "    for token in tokens:\n",
    "        if clasificaciones.get(token) == \"+\":\n",
    "            score += 1\n",
    "        elif clasificaciones.get(token) == \"-\":\n",
    "            score -= 1\n",
    "    return score"
   ]
  },
  {
   "cell_type": "code",
   "execution_count": 105,
   "id": "adcc6154bf5210be",
   "metadata": {
    "ExecuteTime": {
     "end_time": "2025-07-19T10:41:36.396359Z",
     "start_time": "2025-07-19T10:40:46.327896Z"
    }
   },
   "outputs": [],
   "source": [
    "y_scores = [puntaje_sentimiento(texto, clasificaciones) for texto in X_test]"
   ]
  },
  {
   "cell_type": "code",
   "execution_count": 106,
   "id": "12127dc12384868e",
   "metadata": {
    "ExecuteTime": {
     "end_time": "2025-07-19T10:41:52.890749Z",
     "start_time": "2025-07-19T10:41:46.640063Z"
    }
   },
   "outputs": [
    {
     "data": {
      "image/png": "[encoded data removed]",
      "text/plain": [
       "<Figure size 640x480 with 1 Axes>"
      ]
     },
     "metadata": {},
     "output_type": "display_data"
    }
   ],
   "source": [
    "from sklearn.metrics import roc_curve, auc\n",
    "import matplotlib.pyplot as plt\n",
    "\n",
    "# Curva ROC\n",
    "fpr, tpr, _ = roc_curve(y_test, y_scores)\n",
    "roc_auc = auc(fpr, tpr)\n",
    "\n",
    "# Graficar\n",
    "plt.figure()\n",
    "plt.plot(fpr, tpr, color='darkorange', lw=2, label=f'ROC curve (area = {roc_auc:.2f})')\n",
    "plt.plot([0, 1], [0, 1], color='navy', lw=2, linestyle='--')  # línea aleatoria\n",
    "plt.xlim([0.0, 1.0])\n",
    "plt.ylim([0.0, 1.05])\n",
    "plt.xlabel('False Positive Rate')\n",
    "plt.ylabel('True Positive Rate')\n",
    "plt.title('Curva ROC - Clasificador de Sentimientos')\n",
    "plt.legend(loc=\"lower right\")\n",
    "plt.show()\n"
   ]
  },
  {
   "cell_type": "markdown",
   "id": "03343e06",
   "metadata": {},
   "source": [
    "## Modelo de Bert-base-uncased"
   ]
  },
  {
   "cell_type": "markdown",
   "id": "f2cfad45",
   "metadata": {},
   "source": [
    "Exploraremos el modelo bert-base-uncased. Veremos que el desempeño del modelo será muy bajo ya que se tendrá que hacer una reducción de los conjuntos de entrenamiento en más de una milésima parte del set original. Esto por la cantidad de recursos que consume el modelo al momento de entrenarse, ya que en un primer intento de entrenamiento con el set de datos completo alcanzamos una hora y treinta minutos antes que el kernel de python se reiniciara por sobrecarga. "
   ]
  },
  {
   "cell_type": "code",
   "execution_count": 17,
   "id": "8d527243",
   "metadata": {},
   "outputs": [],
   "source": [
    "# Realizaremos una reducción del tamaño del dataset para que sea más manejable\n",
    "\n",
    "# Reducción del set de entrenamiento de 606,000 a 500 ejemplos balanceados\n",
    "X_train_small, _, y_train_small, _ = train_test_split(\n",
    "    X_train, y_train,\n",
    "    train_size=500,\n",
    "    stratify=y_train,\n",
    "    random_state=42\n",
    ")\n",
    "\n",
    "# Reducción del set de test de 150,000 a 100 ejemplos balanceados\n",
    "X_test_small, _, y_test_small, _ = train_test_split(\n",
    "    X_test, y_test,\n",
    "    train_size=100,\n",
    "    stratify=y_test,\n",
    "    random_state=42\n",
    ")"
   ]
  },
  {
   "cell_type": "code",
   "execution_count": null,
   "id": "4b714ef7",
   "metadata": {},
   "outputs": [],
   "source": [
    "# Importar las librerías necesarias para el modelo BERT\n",
    "\n",
    "from transformers import BertTokenizer, BertForSequenceClassification\n",
    "from torch.utils.data import DataLoader, Dataset\n",
    "import torch\n",
    "from sklearn.metrics import classification_report\n",
    "\n",
    "# Creación del modelo BERT y el tokenizador\n",
    "\n",
    "model_name = \"bert-base-uncased\"\n",
    "tokenizer = BertTokenizer.from_pretrained(model_name)\n",
    "\n",
    "# Tokenización de los textos\n",
    "\n",
    "def tokenize_texts(texts):\n",
    "    return tokenizer(texts, truncation=True, padding=True)\n",
    "\n",
    "train_encodings = tokenize_texts(list(X_train_small))\n",
    "val_encodings = tokenize_texts(list(X_test_small))"
   ]
  },
  {
   "cell_type": "code",
   "execution_count": null,
   "id": "905e1c79",
   "metadata": {},
   "outputs": [],
   "source": [
    "# Creación de un Dataset personalizado para PyTorch\n",
    "\n",
    "class SentimentDataset(Dataset):\n",
    "    def __init__(self, encodings, labels):\n",
    "        self.encodings = encodings\n",
    "        self.labels = torch.tensor(labels.tolist())\n",
    "\n",
    "    def __getitem__(self, idx):\n",
    "        # Crea un diccionario con los tensores del encoding\n",
    "        item = {k: torch.tensor(v[idx]) for k, v in self.encodings.items()}\n",
    "        item[\"labels\"] = self.labels[idx]\n",
    "        return item\n",
    "\n",
    "    def __len__(self):\n",
    "        return len(self.labels)\n",
    "\n",
    "\n",
    "# Creación de los datasets de entrenamiento y validación\n",
    "\n",
    "train_dataset = SentimentDataset(train_encodings, y_train_small)\n",
    "val_dataset = SentimentDataset(val_encodings, y_test_small)"
   ]
  },
  {
   "cell_type": "code",
   "execution_count": null,
   "id": "12509b75",
   "metadata": {},
   "outputs": [
    {
     "name": "stderr",
     "output_type": "stream",
     "text": [
      "Some weights of BertForSequenceClassification were not initialized from the model checkpoint at bert-base-uncased and are newly initialized: ['classifier.bias', 'classifier.weight']\n",
      "You should probably TRAIN this model on a down-stream task to be able to use it for predictions and inference.\n"
     ]
    }
   ],
   "source": [
    "# Creación del modelo BERT para clasificación de secuencias\n",
    "\n",
    "model = BertForSequenceClassification.from_pretrained(model_name, num_labels=2)\n",
    "train_loader = DataLoader(train_dataset, batch_size=8, shuffle=True)\n",
    "val_loader = DataLoader(val_dataset, batch_size=8)"
   ]
  },
  {
   "cell_type": "code",
   "execution_count": null,
   "id": "da4acd9d",
   "metadata": {},
   "outputs": [
    {
     "name": "stdout",
     "output_type": "stream",
     "text": [
      "Epoch 1 - Loss: 0.7142\n",
      "Epoch 2 - Loss: 0.7017\n"
     ]
    }
   ],
   "source": [
    "#Entreinamiento del modelo BERT\n",
    "\n",
    "from torch.optim import AdamW\n",
    "\n",
    "device = torch.device(\"cuda\" if torch.cuda.is_available() else \"cpu\")\n",
    "model.to(device)\n",
    "optimizer = AdamW(model.parameters(), lr=5e-5)\n",
    "\n",
    "model.train()\n",
    "for epoch in range(2):  # Número de épocas\n",
    "    total_loss = 0\n",
    "    for batch in train_loader:\n",
    "        batch = {k: v.to(device) for k, v in batch.items()}\n",
    "        outputs = model(**batch)\n",
    "        loss = outputs.loss\n",
    "        total_loss += loss.item()\n",
    "        loss.backward()\n",
    "        optimizer.step()\n",
    "        optimizer.zero_grad()\n",
    "    print(f\"Epoch {epoch+1} - Loss: {total_loss / len(train_loader):.4f}\")"
   ]
  },
  {
   "cell_type": "markdown",
   "id": "b787b5ca",
   "metadata": {},
   "source": [
    "Hemos de notar que a pesar de la poca cantidad de datos, el tiempo de entrenamiento es significativamente alto, de aproximadamente 25 minutos. Y además obtuvimos un desempeño excesivamente bajo"
   ]
  },
  {
   "cell_type": "code",
   "execution_count": 50,
   "id": "a9996d3e",
   "metadata": {},
   "outputs": [
    {
     "name": "stdout",
     "output_type": "stream",
     "text": [
      "\n",
      "Classification Report:\n",
      "              precision    recall  f1-score   support\n",
      "\n",
      "           0       0.00      0.00      0.00        49\n",
      "           1       0.51      1.00      0.68        51\n",
      "\n",
      "    accuracy                           0.51       100\n",
      "   macro avg       0.26      0.50      0.34       100\n",
      "weighted avg       0.26      0.51      0.34       100\n",
      "\n"
     ]
    },
    {
     "name": "stderr",
     "output_type": "stream",
     "text": [
      "C:\\Users\\jmuri\\AppData\\Local\\Packages\\PythonSoftwareFoundation.Python.3.12_qbz5n2kfra8p0\\LocalCache\\local-packages\\Python312\\site-packages\\sklearn\\metrics\\_classification.py:1706: UndefinedMetricWarning: Precision is ill-defined and being set to 0.0 in labels with no predicted samples. Use `zero_division` parameter to control this behavior.\n",
      "  _warn_prf(average, modifier, f\"{metric.capitalize()} is\", result.shape[0])\n",
      "C:\\Users\\jmuri\\AppData\\Local\\Packages\\PythonSoftwareFoundation.Python.3.12_qbz5n2kfra8p0\\LocalCache\\local-packages\\Python312\\site-packages\\sklearn\\metrics\\_classification.py:1706: UndefinedMetricWarning: Precision is ill-defined and being set to 0.0 in labels with no predicted samples. Use `zero_division` parameter to control this behavior.\n",
      "  _warn_prf(average, modifier, f\"{metric.capitalize()} is\", result.shape[0])\n",
      "C:\\Users\\jmuri\\AppData\\Local\\Packages\\PythonSoftwareFoundation.Python.3.12_qbz5n2kfra8p0\\LocalCache\\local-packages\\Python312\\site-packages\\sklearn\\metrics\\_classification.py:1706: UndefinedMetricWarning: Precision is ill-defined and being set to 0.0 in labels with no predicted samples. Use `zero_division` parameter to control this behavior.\n",
      "  _warn_prf(average, modifier, f\"{metric.capitalize()} is\", result.shape[0])\n"
     ]
    }
   ],
   "source": [
    "#Evaluación del modelo BERT en el conjunto de test\n",
    "\n",
    "import numpy as np\n",
    "model.eval()\n",
    "preds = []\n",
    "true_labels = []\n",
    "\n",
    "with torch.no_grad():\n",
    "    for batch in val_loader:\n",
    "        batch = {k: v.to(device) for k, v in batch.items()}\n",
    "        outputs = model(**batch)\n",
    "        logits = outputs.logits\n",
    "        preds.extend(torch.argmax(logits, dim=1).cpu().tolist())\n",
    "        true_labels.extend(batch[\"labels\"].cpu().tolist())\n",
    "\n",
    "# Calcular y mostrar el reporte de clasificación\n",
    "\n",
    "print(\"\\nClassification Report:\")\n",
    "print(classification_report(true_labels, preds))"
   ]
  },
  {
   "cell_type": "markdown",
   "id": "a74dcd6c",
   "metadata": {},
   "source": [
    "Notemos que el modelo no pudo reconocer ningún texto negativo, es decir, calificó con 1 a todas las reseñas, y se podría pensar que el modelo no califica 0, pero se hizo una prueba posterior en un ejemplo especifico (\"Awful\") el cuál clasificó de manera correcta, con 0. Este ejemplo no se puede mostrar porque hubo un reinicio del kernel, por lo que se hubiera requerido nuevamente entrenar el modelo para hacer el ejemplo, lo cuál no nos pareció necesario."
   ]
  },
  {
   "cell_type": "markdown",
   "id": "9a39b717",
   "metadata": {},
   "source": [
    "Adicionalmente haciendo un recorrido de algunas de las reseñas en el conjunto de test pudimos evideciar que tienen un lenguaje significantemente avanzado y \"profesional\" como para poder ser interpretable por el modelo poco entrenado. Haré una impresión del conjunto de test junto con sus clasificaciones reales para una buena visualización de lo mencionado."
   ]
  },
  {
   "cell_type": "code",
   "execution_count": 28,
   "id": "ef0947c5",
   "metadata": {},
   "outputs": [
    {
     "name": "stdout",
     "output_type": "stream",
     "text": [
      "1 Rent-A-Pal is an unexpected delight, the sort of movie that feels both like a throwback and very current, evoking feelings of isolation and loneliness that likely ring all too familiar to viewers at this moment in time.\n",
      "1 Turns what could have been a sharply comic portrait of an inveterate buttinsky into a fatuously bland feature-length sitcom.\n",
      "1 \"A Star is Born\" isn't perfect, but what Cooper and Gaga are able to do with the tale make it a delicate love story and triumphant tribute to the artistic spirit.\n",
      "0 The Crazies falls into a run-hide-fight narrative loop that's not unlike a video game.\n",
      "1 The acting is much above average for action films and takes advantage of the depth of an experienced actor like Bale.\n",
      "0 Arbus (whose actual work is unseen, presumably because of rights issues) remains an enigma, and Kidman's wispy portrayal doesn't give the film the center it needs.\n",
      "0 Watered-down beer.\n",
      "1 Mileage will vary in the eyes of many viewers, and some might write it off as a curiosity or a misfire, but in an age where creativity and thoughtfulness are in short supply in genre fare, Hold the Dark is something worth celebrating.\n",
      "1 A true original, the first look at the U.S.-Iraq war from cameras embedded with the soldiers in the field.\n",
      "0 The movie is as flighty and mixed up as the adolescent girl at its center.\n",
      "0 There is no historical moment so epochal that it cannot be reduced to schlock entertainment in the right hands.\n",
      "1 Although filling the watcher with the same sort of outrage that inspired the women to stand up and be counted, this is, at heart, a testimony to the power of solidarity and sisterhood through a single purpose.\n",
      "0 Scoop. It's a tired, thin, almost laughless reminder of the earlier Allen.\n",
      "1 The real stars are the stunts and special effects, particularly the 90 thousand gallons of H20.\n",
      "1 Whether the world is ready for the first intelligent comic book film, only time, and a guy who spends a lot of money on new trousers, will tell.\n",
      "1 An astute, timely and thought-provoking offering from the king of political satire\n",
      "0 Woodley's performance is proof, if proof were needed, that only Jennifer Lawrence can do 'blank-faced teen' compellingly.\n",
      "1 Robert Eggers ramps up the tension by setting his tale in a familiar-yet-foreign locale and using the natural terror of isolation to prompt chills and thrills from audiences.\n",
      "1 The horror is so inhuman, yet so commonplace, that we think we must be dreaming.\n",
      "0 Recycling espionage-a-go-go conventions while namechecking global conflicts doesn't shed light on any state we're in; it just feels fatigued.\n",
      "0 Succeeds in finding something to offend almost everybody.\n",
      "0 As a film it feels overly familiar, with some amusing scenes, but not enough to make for a wholly satisfying experience.\n",
      "1 It is a riveting, rich portrait of an atheist who thinks he's resistant to faith but may be in the throes of a feverish conversion.\n",
      "0 Watch this dragging indie, and you'll wonder who's more trapped: Vertical Limit's Robin Tunney, who's under house arrest in the bad part of town for allegedly running over a cop; or you.\n",
      "1 This true-life sports story has a little of the same magic \"Hoosiers\" has.\n"
     ]
    }
   ],
   "source": [
    "for i in range(25):\n",
    "    print(list(y_test_small)[i], list(X_test_small)[i])"
   ]
  }
 ],
 "metadata": {
  "kernelspec": {
   "display_name": "Python 3",
   "language": "python",
   "name": "python3"
  },
  "language_info": {
   "codemirror_mode": {
    "name": "ipython",
    "version": 3
   },
   "file_extension": ".py",
   "mimetype": "text/x-python",
   "name": "python",
   "nbconvert_exporter": "python",
   "pygments_lexer": "ipython3",
   "version": "3.12.10"
  }
 },
 "nbformat": 4,
 "nbformat_minor": 5
}
