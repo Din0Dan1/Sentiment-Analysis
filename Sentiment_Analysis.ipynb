{
 "cells": [
  {
   "cell_type": "code",
   "execution_count": 3,
   "id": "15ca40c9",
   "metadata": {
    "ExecuteTime": {
     "end_time": "2025-06-23T20:25:09.852629Z",
     "start_time": "2025-06-23T20:24:58.024611Z"
    }
   },
   "outputs": [],
   "source": [
    "import pandas as pd\n",
    "import sklearn as sk\n",
    "import nltk \n",
    "from nltk.corpus import stopwords\n",
    "from sklearn.feature_extraction.text import CountVectorizer, TfidfVectorizer\n",
    "from sklearn.linear_model import LogisticRegression\n",
    "from sklearn.metrics import roc_auc_score, f1_score, confusion_matrix\n",
    "from sklearn.model_selection import train_test_split\n",
    "from transformers import AutoTokenizer"
   ]
  },
  {
   "cell_type": "markdown",
   "id": "a2e6efe2",
   "metadata": {},
   "source": [
    "### Importación de los datos y limpieza"
   ]
  },
  {
   "cell_type": "code",
   "execution_count": 4,
   "id": "6c89af7f6793a1d",
   "metadata": {
    "ExecuteTime": {
     "end_time": "2025-06-23T20:26:48.614971Z",
     "start_time": "2025-06-23T20:26:48.569826Z"
    }
   },
   "outputs": [
    {
     "name": "stdout",
     "output_type": "stream",
     "text": [
      "Ruta cargada: C:/Users/jmuri/OneDrive/Escritorio/Stuff/Proyecto aprendizaje automático/archiverotten/rotten_tomatoes_critic_reviews.csv\n"
     ]
    }
   ],
   "source": [
    "import json\n",
    "# Cargar la configuración desde un archivo JSON\n",
    "with open(\"configura_local.json\", encoding=\"utf-8\") as f:\n",
    "    config = json.load(f)\n",
    "\n",
    "print(\"Ruta cargada:\", config[\"data_path\"])"
   ]
  },
  {
   "cell_type": "code",
   "execution_count": 5,
   "id": "ac9bd021",
   "metadata": {
    "ExecuteTime": {
     "end_time": "2025-06-23T20:29:54.783977Z",
     "start_time": "2025-06-23T20:29:51.399878Z"
    }
   },
   "outputs": [],
   "source": [
    "file_path = json.load(open(\"configura_local.json\", encoding=\"utf-8\"))[\"data_path\"]\n",
    "df = pd.read_csv(file_path)"
   ]
  },
  {
   "cell_type": "code",
   "execution_count": 6,
   "id": "be4edb43",
   "metadata": {
    "ExecuteTime": {
     "end_time": "2025-06-23T20:29:58.682659Z",
     "start_time": "2025-06-23T20:29:58.609651Z"
    }
   },
   "outputs": [
    {
     "data": {
      "text/html": [
       "<div>\n",
       "<style scoped>\n",
       "    .dataframe tbody tr th:only-of-type {\n",
       "        vertical-align: middle;\n",
       "    }\n",
       "\n",
       "    .dataframe tbody tr th {\n",
       "        vertical-align: top;\n",
       "    }\n",
       "\n",
       "    .dataframe thead th {\n",
       "        text-align: right;\n",
       "    }\n",
       "</style>\n",
       "<table border=\"1\" class=\"dataframe\">\n",
       "  <thead>\n",
       "    <tr style=\"text-align: right;\">\n",
       "      <th></th>\n",
       "      <th>rotten_tomatoes_link</th>\n",
       "      <th>critic_name</th>\n",
       "      <th>top_critic</th>\n",
       "      <th>publisher_name</th>\n",
       "      <th>review_type</th>\n",
       "      <th>review_score</th>\n",
       "      <th>review_date</th>\n",
       "      <th>review_content</th>\n",
       "    </tr>\n",
       "  </thead>\n",
       "  <tbody>\n",
       "    <tr>\n",
       "      <th>0</th>\n",
       "      <td>m/0814255</td>\n",
       "      <td>Andrew L. Urban</td>\n",
       "      <td>False</td>\n",
       "      <td>Urban Cinefile</td>\n",
       "      <td>Fresh</td>\n",
       "      <td>NaN</td>\n",
       "      <td>2010-02-06</td>\n",
       "      <td>A fantasy adventure that fuses Greek mythology...</td>\n",
       "    </tr>\n",
       "    <tr>\n",
       "      <th>1</th>\n",
       "      <td>m/0814255</td>\n",
       "      <td>Louise Keller</td>\n",
       "      <td>False</td>\n",
       "      <td>Urban Cinefile</td>\n",
       "      <td>Fresh</td>\n",
       "      <td>NaN</td>\n",
       "      <td>2010-02-06</td>\n",
       "      <td>Uma Thurman as Medusa, the gorgon with a coiff...</td>\n",
       "    </tr>\n",
       "    <tr>\n",
       "      <th>2</th>\n",
       "      <td>m/0814255</td>\n",
       "      <td>NaN</td>\n",
       "      <td>False</td>\n",
       "      <td>FILMINK (Australia)</td>\n",
       "      <td>Fresh</td>\n",
       "      <td>NaN</td>\n",
       "      <td>2010-02-09</td>\n",
       "      <td>With a top-notch cast and dazzling special eff...</td>\n",
       "    </tr>\n",
       "    <tr>\n",
       "      <th>3</th>\n",
       "      <td>m/0814255</td>\n",
       "      <td>Ben McEachen</td>\n",
       "      <td>False</td>\n",
       "      <td>Sunday Mail (Australia)</td>\n",
       "      <td>Fresh</td>\n",
       "      <td>3.5/5</td>\n",
       "      <td>2010-02-09</td>\n",
       "      <td>Whether audiences will get behind The Lightnin...</td>\n",
       "    </tr>\n",
       "    <tr>\n",
       "      <th>4</th>\n",
       "      <td>m/0814255</td>\n",
       "      <td>Ethan Alter</td>\n",
       "      <td>True</td>\n",
       "      <td>Hollywood Reporter</td>\n",
       "      <td>Rotten</td>\n",
       "      <td>NaN</td>\n",
       "      <td>2010-02-10</td>\n",
       "      <td>What's really lacking in The Lightning Thief i...</td>\n",
       "    </tr>\n",
       "  </tbody>\n",
       "</table>\n",
       "</div>"
      ],
      "text/plain": [
       "  rotten_tomatoes_link      critic_name  top_critic           publisher_name  \\\n",
       "0            m/0814255  Andrew L. Urban       False           Urban Cinefile   \n",
       "1            m/0814255    Louise Keller       False           Urban Cinefile   \n",
       "2            m/0814255              NaN       False      FILMINK (Australia)   \n",
       "3            m/0814255     Ben McEachen       False  Sunday Mail (Australia)   \n",
       "4            m/0814255      Ethan Alter        True       Hollywood Reporter   \n",
       "\n",
       "  review_type review_score review_date  \\\n",
       "0       Fresh          NaN  2010-02-06   \n",
       "1       Fresh          NaN  2010-02-06   \n",
       "2       Fresh          NaN  2010-02-09   \n",
       "3       Fresh        3.5/5  2010-02-09   \n",
       "4      Rotten          NaN  2010-02-10   \n",
       "\n",
       "                                      review_content  \n",
       "0  A fantasy adventure that fuses Greek mythology...  \n",
       "1  Uma Thurman as Medusa, the gorgon with a coiff...  \n",
       "2  With a top-notch cast and dazzling special eff...  \n",
       "3  Whether audiences will get behind The Lightnin...  \n",
       "4  What's really lacking in The Lightning Thief i...  "
      ]
     },
     "execution_count": 6,
     "metadata": {},
     "output_type": "execute_result"
    }
   ],
   "source": [
    "df.head(5)"
   ]
  },
  {
   "cell_type": "code",
   "execution_count": 7,
   "id": "6c4428c1",
   "metadata": {
    "ExecuteTime": {
     "end_time": "2025-06-23T20:38:14.629009Z",
     "start_time": "2025-06-23T20:38:13.165980Z"
    }
   },
   "outputs": [
    {
     "data": {
      "text/html": [
       "<div>\n",
       "<style scoped>\n",
       "    .dataframe tbody tr th:only-of-type {\n",
       "        vertical-align: middle;\n",
       "    }\n",
       "\n",
       "    .dataframe tbody tr th {\n",
       "        vertical-align: top;\n",
       "    }\n",
       "\n",
       "    .dataframe thead th {\n",
       "        text-align: right;\n",
       "    }\n",
       "</style>\n",
       "<table border=\"1\" class=\"dataframe\">\n",
       "  <thead>\n",
       "    <tr style=\"text-align: right;\">\n",
       "      <th></th>\n",
       "      <th>review_score</th>\n",
       "      <th>review_content</th>\n",
       "    </tr>\n",
       "  </thead>\n",
       "  <tbody>\n",
       "    <tr>\n",
       "      <th>0</th>\n",
       "      <td>NaN</td>\n",
       "      <td>A fantasy adventure that fuses Greek mythology...</td>\n",
       "    </tr>\n",
       "    <tr>\n",
       "      <th>1</th>\n",
       "      <td>NaN</td>\n",
       "      <td>Uma Thurman as Medusa, the gorgon with a coiff...</td>\n",
       "    </tr>\n",
       "    <tr>\n",
       "      <th>2</th>\n",
       "      <td>NaN</td>\n",
       "      <td>With a top-notch cast and dazzling special eff...</td>\n",
       "    </tr>\n",
       "    <tr>\n",
       "      <th>3</th>\n",
       "      <td>3.5/5</td>\n",
       "      <td>Whether audiences will get behind The Lightnin...</td>\n",
       "    </tr>\n",
       "    <tr>\n",
       "      <th>4</th>\n",
       "      <td>NaN</td>\n",
       "      <td>What's really lacking in The Lightning Thief i...</td>\n",
       "    </tr>\n",
       "  </tbody>\n",
       "</table>\n",
       "</div>"
      ],
      "text/plain": [
       "  review_score                                     review_content\n",
       "0          NaN  A fantasy adventure that fuses Greek mythology...\n",
       "1          NaN  Uma Thurman as Medusa, the gorgon with a coiff...\n",
       "2          NaN  With a top-notch cast and dazzling special eff...\n",
       "3        3.5/5  Whether audiences will get behind The Lightnin...\n",
       "4          NaN  What's really lacking in The Lightning Thief i..."
      ]
     },
     "execution_count": 7,
     "metadata": {},
     "output_type": "execute_result"
    }
   ],
   "source": [
    "#Filtrado de columnas que se van a utilizar\n",
    "columnas = ['review_score','review_content']\n",
    "df = df[columnas]\n",
    "df.head(5)"
   ]
  },
  {
   "cell_type": "code",
   "execution_count": 8,
   "id": "9af754f1",
   "metadata": {
    "ExecuteTime": {
     "end_time": "2025-06-23T20:38:24.885348Z",
     "start_time": "2025-06-23T20:38:24.745972Z"
    }
   },
   "outputs": [],
   "source": [
    "# Eliminación de filas con valores nulos\n",
    "df.dropna(inplace=True)"
   ]
  },
  {
   "cell_type": "code",
   "execution_count": 9,
   "id": "47468532",
   "metadata": {
    "ExecuteTime": {
     "end_time": "2025-06-23T20:38:32.486192Z",
     "start_time": "2025-06-23T20:38:32.335039Z"
    }
   },
   "outputs": [],
   "source": [
    "# Diccionario de conversión de letras a escala de 5 como fracción\n",
    "letter_to_score = {\n",
    "    'A': '5/5',\n",
    "    'A-': '4.7/5',\n",
    "    'B+': '4.3/5',\n",
    "    'B': '4/5',\n",
    "    'B-': '3.7/5',\n",
    "    'C+': '3.3/5',\n",
    "    'C': '3/5',\n",
    "    'C-': '2.7/5',\n",
    "    'D+': '2.3/5',\n",
    "    'D': '2/5',\n",
    "    'D-': '1.7/5',\n",
    "    'F': '1/5',\n",
    "}\n",
    "\n",
    "# Función para reemplazar calificaciones de letra\n",
    "def convert_score(score):\n",
    "    score_str = str(score).strip()\n",
    "    if score_str in letter_to_score:\n",
    "        return letter_to_score[score_str]\n",
    "    return score_str  # deja igual si ya es una fracción como \"3.5/5\"\n",
    "\n",
    "# Aplica la función a la columna de calificaciones\n",
    "df['review_score'] = df['review_score'].apply(convert_score)"
   ]
  },
  {
   "cell_type": "code",
   "execution_count": 10,
   "id": "c42bc705",
   "metadata": {
    "ExecuteTime": {
     "end_time": "2025-06-23T20:38:38.567566Z",
     "start_time": "2025-06-23T20:38:38.550247Z"
    }
   },
   "outputs": [
    {
     "data": {
      "text/html": [
       "<div>\n",
       "<style scoped>\n",
       "    .dataframe tbody tr th:only-of-type {\n",
       "        vertical-align: middle;\n",
       "    }\n",
       "\n",
       "    .dataframe tbody tr th {\n",
       "        vertical-align: top;\n",
       "    }\n",
       "\n",
       "    .dataframe thead th {\n",
       "        text-align: right;\n",
       "    }\n",
       "</style>\n",
       "<table border=\"1\" class=\"dataframe\">\n",
       "  <thead>\n",
       "    <tr style=\"text-align: right;\">\n",
       "      <th></th>\n",
       "      <th>review_score</th>\n",
       "      <th>review_content</th>\n",
       "    </tr>\n",
       "  </thead>\n",
       "  <tbody>\n",
       "    <tr>\n",
       "      <th>3</th>\n",
       "      <td>3.5/5</td>\n",
       "      <td>Whether audiences will get behind The Lightnin...</td>\n",
       "    </tr>\n",
       "    <tr>\n",
       "      <th>6</th>\n",
       "      <td>1/4</td>\n",
       "      <td>Harry Potter knockoffs don't come more transpa...</td>\n",
       "    </tr>\n",
       "    <tr>\n",
       "      <th>7</th>\n",
       "      <td>3.5/5</td>\n",
       "      <td>Percy Jackson isn't a great movie, but it's a ...</td>\n",
       "    </tr>\n",
       "    <tr>\n",
       "      <th>8</th>\n",
       "      <td>4/5</td>\n",
       "      <td>Fun, brisk and imaginative</td>\n",
       "    </tr>\n",
       "    <tr>\n",
       "      <th>9</th>\n",
       "      <td>3/5</td>\n",
       "      <td>Crammed with dragons, set-destroying fights an...</td>\n",
       "    </tr>\n",
       "  </tbody>\n",
       "</table>\n",
       "</div>"
      ],
      "text/plain": [
       "  review_score                                     review_content\n",
       "3        3.5/5  Whether audiences will get behind The Lightnin...\n",
       "6          1/4  Harry Potter knockoffs don't come more transpa...\n",
       "7        3.5/5  Percy Jackson isn't a great movie, but it's a ...\n",
       "8          4/5                         Fun, brisk and imaginative\n",
       "9          3/5  Crammed with dragons, set-destroying fights an..."
      ]
     },
     "execution_count": 10,
     "metadata": {},
     "output_type": "execute_result"
    }
   ],
   "source": [
    "df.head(5)"
   ]
  },
  {
   "cell_type": "code",
   "execution_count": 11,
   "id": "334c0750",
   "metadata": {
    "ExecuteTime": {
     "end_time": "2025-06-23T20:38:56.146602Z",
     "start_time": "2025-06-23T20:38:55.780433Z"
    }
   },
   "outputs": [],
   "source": [
    "# Convertir fracciones a número decimal\n",
    "def fraction_to_float(score_str):\n",
    "    try:\n",
    "        num, den = score_str.split('/')\n",
    "        return float(num) / float(den)\n",
    "    except:\n",
    "        return None  # para manejar errores o valores inesperados\n",
    "\n",
    "df['review_score'] = df['review_score'].apply(fraction_to_float)\n"
   ]
  },
  {
   "cell_type": "code",
   "execution_count": 12,
   "id": "709adab2",
   "metadata": {
    "ExecuteTime": {
     "end_time": "2025-06-23T20:39:01.625921Z",
     "start_time": "2025-06-23T20:39:01.610177Z"
    }
   },
   "outputs": [
    {
     "data": {
      "text/html": [
       "<div>\n",
       "<style scoped>\n",
       "    .dataframe tbody tr th:only-of-type {\n",
       "        vertical-align: middle;\n",
       "    }\n",
       "\n",
       "    .dataframe tbody tr th {\n",
       "        vertical-align: top;\n",
       "    }\n",
       "\n",
       "    .dataframe thead th {\n",
       "        text-align: right;\n",
       "    }\n",
       "</style>\n",
       "<table border=\"1\" class=\"dataframe\">\n",
       "  <thead>\n",
       "    <tr style=\"text-align: right;\">\n",
       "      <th></th>\n",
       "      <th>review_score</th>\n",
       "      <th>review_content</th>\n",
       "    </tr>\n",
       "  </thead>\n",
       "  <tbody>\n",
       "    <tr>\n",
       "      <th>3</th>\n",
       "      <td>0.70</td>\n",
       "      <td>Whether audiences will get behind The Lightnin...</td>\n",
       "    </tr>\n",
       "    <tr>\n",
       "      <th>6</th>\n",
       "      <td>0.25</td>\n",
       "      <td>Harry Potter knockoffs don't come more transpa...</td>\n",
       "    </tr>\n",
       "    <tr>\n",
       "      <th>7</th>\n",
       "      <td>0.70</td>\n",
       "      <td>Percy Jackson isn't a great movie, but it's a ...</td>\n",
       "    </tr>\n",
       "    <tr>\n",
       "      <th>8</th>\n",
       "      <td>0.80</td>\n",
       "      <td>Fun, brisk and imaginative</td>\n",
       "    </tr>\n",
       "    <tr>\n",
       "      <th>9</th>\n",
       "      <td>0.60</td>\n",
       "      <td>Crammed with dragons, set-destroying fights an...</td>\n",
       "    </tr>\n",
       "  </tbody>\n",
       "</table>\n",
       "</div>"
      ],
      "text/plain": [
       "   review_score                                     review_content\n",
       "3          0.70  Whether audiences will get behind The Lightnin...\n",
       "6          0.25  Harry Potter knockoffs don't come more transpa...\n",
       "7          0.70  Percy Jackson isn't a great movie, but it's a ...\n",
       "8          0.80                         Fun, brisk and imaginative\n",
       "9          0.60  Crammed with dragons, set-destroying fights an..."
      ]
     },
     "execution_count": 12,
     "metadata": {},
     "output_type": "execute_result"
    }
   ],
   "source": [
    "df.head(5)"
   ]
  },
  {
   "cell_type": "code",
   "execution_count": 13,
   "id": "2b7b8932",
   "metadata": {
    "ExecuteTime": {
     "end_time": "2025-06-23T20:39:07.393503Z",
     "start_time": "2025-06-23T20:39:07.350377Z"
    }
   },
   "outputs": [
    {
     "name": "stdout",
     "output_type": "stream",
     "text": [
      "Mediana de review_score: 0.66\n"
     ]
    }
   ],
   "source": [
    "# Calcular la mediana\n",
    "median_score = df['review_score'].median()\n",
    "print(\"Mediana de review_score:\", round(median_score, 3))"
   ]
  },
  {
   "cell_type": "code",
   "execution_count": 14,
   "id": "c434c061",
   "metadata": {
    "ExecuteTime": {
     "end_time": "2025-06-23T20:39:22.014146Z",
     "start_time": "2025-06-23T20:39:21.896349Z"
    }
   },
   "outputs": [],
   "source": [
    "# Clasificar como 'positivo' si el score es mayor que la mediana, si no, 'negativo'\n",
    "df['sentiment'] = df['review_score'].apply(\n",
    "    lambda x: 'positivo' if x >= median_score else 'negativo'\n",
    ")"
   ]
  },
  {
   "cell_type": "code",
   "execution_count": 15,
   "id": "4cd610fa",
   "metadata": {
    "ExecuteTime": {
     "end_time": "2025-06-23T20:39:31.011817Z",
     "start_time": "2025-06-23T20:39:30.997848Z"
    }
   },
   "outputs": [
    {
     "data": {
      "text/html": [
       "<div>\n",
       "<style scoped>\n",
       "    .dataframe tbody tr th:only-of-type {\n",
       "        vertical-align: middle;\n",
       "    }\n",
       "\n",
       "    .dataframe tbody tr th {\n",
       "        vertical-align: top;\n",
       "    }\n",
       "\n",
       "    .dataframe thead th {\n",
       "        text-align: right;\n",
       "    }\n",
       "</style>\n",
       "<table border=\"1\" class=\"dataframe\">\n",
       "  <thead>\n",
       "    <tr style=\"text-align: right;\">\n",
       "      <th></th>\n",
       "      <th>review_score</th>\n",
       "      <th>review_content</th>\n",
       "      <th>sentiment</th>\n",
       "    </tr>\n",
       "  </thead>\n",
       "  <tbody>\n",
       "    <tr>\n",
       "      <th>3</th>\n",
       "      <td>0.70</td>\n",
       "      <td>Whether audiences will get behind The Lightnin...</td>\n",
       "      <td>positivo</td>\n",
       "    </tr>\n",
       "    <tr>\n",
       "      <th>6</th>\n",
       "      <td>0.25</td>\n",
       "      <td>Harry Potter knockoffs don't come more transpa...</td>\n",
       "      <td>negativo</td>\n",
       "    </tr>\n",
       "    <tr>\n",
       "      <th>7</th>\n",
       "      <td>0.70</td>\n",
       "      <td>Percy Jackson isn't a great movie, but it's a ...</td>\n",
       "      <td>positivo</td>\n",
       "    </tr>\n",
       "    <tr>\n",
       "      <th>8</th>\n",
       "      <td>0.80</td>\n",
       "      <td>Fun, brisk and imaginative</td>\n",
       "      <td>positivo</td>\n",
       "    </tr>\n",
       "    <tr>\n",
       "      <th>9</th>\n",
       "      <td>0.60</td>\n",
       "      <td>Crammed with dragons, set-destroying fights an...</td>\n",
       "      <td>negativo</td>\n",
       "    </tr>\n",
       "    <tr>\n",
       "      <th>...</th>\n",
       "      <td>...</td>\n",
       "      <td>...</td>\n",
       "      <td>...</td>\n",
       "    </tr>\n",
       "    <tr>\n",
       "      <th>1130006</th>\n",
       "      <td>0.80</td>\n",
       "      <td>As a spectacular war film with a powerful mora...</td>\n",
       "      <td>positivo</td>\n",
       "    </tr>\n",
       "    <tr>\n",
       "      <th>1130013</th>\n",
       "      <td>0.70</td>\n",
       "      <td>Seen today, it's not only a startling indictme...</td>\n",
       "      <td>positivo</td>\n",
       "    </tr>\n",
       "    <tr>\n",
       "      <th>1130014</th>\n",
       "      <td>0.86</td>\n",
       "      <td>A rousing visual spectacle that's a prequel of...</td>\n",
       "      <td>positivo</td>\n",
       "    </tr>\n",
       "    <tr>\n",
       "      <th>1130015</th>\n",
       "      <td>0.70</td>\n",
       "      <td>A simple two-act story: Prelude to war, and th...</td>\n",
       "      <td>positivo</td>\n",
       "    </tr>\n",
       "    <tr>\n",
       "      <th>1130016</th>\n",
       "      <td>0.60</td>\n",
       "      <td>Rides the line between being a pure artifact o...</td>\n",
       "      <td>negativo</td>\n",
       "    </tr>\n",
       "  </tbody>\n",
       "</table>\n",
       "<p>758709 rows × 3 columns</p>\n",
       "</div>"
      ],
      "text/plain": [
       "         review_score                                     review_content  \\\n",
       "3                0.70  Whether audiences will get behind The Lightnin...   \n",
       "6                0.25  Harry Potter knockoffs don't come more transpa...   \n",
       "7                0.70  Percy Jackson isn't a great movie, but it's a ...   \n",
       "8                0.80                         Fun, brisk and imaginative   \n",
       "9                0.60  Crammed with dragons, set-destroying fights an...   \n",
       "...               ...                                                ...   \n",
       "1130006          0.80  As a spectacular war film with a powerful mora...   \n",
       "1130013          0.70  Seen today, it's not only a startling indictme...   \n",
       "1130014          0.86  A rousing visual spectacle that's a prequel of...   \n",
       "1130015          0.70  A simple two-act story: Prelude to war, and th...   \n",
       "1130016          0.60  Rides the line between being a pure artifact o...   \n",
       "\n",
       "        sentiment  \n",
       "3        positivo  \n",
       "6        negativo  \n",
       "7        positivo  \n",
       "8        positivo  \n",
       "9        negativo  \n",
       "...           ...  \n",
       "1130006  positivo  \n",
       "1130013  positivo  \n",
       "1130014  positivo  \n",
       "1130015  positivo  \n",
       "1130016  negativo  \n",
       "\n",
       "[758709 rows x 3 columns]"
      ]
     },
     "execution_count": 15,
     "metadata": {},
     "output_type": "execute_result"
    }
   ],
   "source": [
    "df"
   ]
  },
  {
   "cell_type": "code",
   "execution_count": 16,
   "id": "163ca8b1",
   "metadata": {
    "ExecuteTime": {
     "end_time": "2025-06-23T20:39:41.001836Z",
     "start_time": "2025-06-23T20:39:40.949597Z"
    }
   },
   "outputs": [
    {
     "name": "stdout",
     "output_type": "stream",
     "text": [
      "sentiment\n",
      "positivo    386805\n",
      "negativo    371904\n",
      "Name: count, dtype: int64\n"
     ]
    }
   ],
   "source": [
    "# Conteo de valores positivos y negativos de la columna 'sentiment'\n",
    "print(df['sentiment'].value_counts())"
   ]
  },
  {
   "cell_type": "code",
   "execution_count": 17,
   "id": "7d95f466",
   "metadata": {},
   "outputs": [
    {
     "name": "stderr",
     "output_type": "stream",
     "text": [
      "C:\\Users\\jmuri\\AppData\\Local\\Temp\\ipykernel_18152\\683694738.py:7: SettingWithCopyWarning: \n",
      "A value is trying to be set on a copy of a slice from a DataFrame.\n",
      "Try using .loc[row_indexer,col_indexer] = value instead\n",
      "\n",
      "See the caveats in the documentation: https://pandas.pydata.org/pandas-docs/stable/user_guide/indexing.html#returning-a-view-versus-a-copy\n",
      "  df['sentiment'] = df['sentiment'].map(target_map)\n"
     ]
    },
    {
     "data": {
      "text/html": [
       "<div>\n",
       "<style scoped>\n",
       "    .dataframe tbody tr th:only-of-type {\n",
       "        vertical-align: middle;\n",
       "    }\n",
       "\n",
       "    .dataframe tbody tr th {\n",
       "        vertical-align: top;\n",
       "    }\n",
       "\n",
       "    .dataframe thead th {\n",
       "        text-align: right;\n",
       "    }\n",
       "</style>\n",
       "<table border=\"1\" class=\"dataframe\">\n",
       "  <thead>\n",
       "    <tr style=\"text-align: right;\">\n",
       "      <th></th>\n",
       "      <th>review_content</th>\n",
       "      <th>sentiment</th>\n",
       "    </tr>\n",
       "  </thead>\n",
       "  <tbody>\n",
       "    <tr>\n",
       "      <th>3</th>\n",
       "      <td>Whether audiences will get behind The Lightnin...</td>\n",
       "      <td>1</td>\n",
       "    </tr>\n",
       "    <tr>\n",
       "      <th>6</th>\n",
       "      <td>Harry Potter knockoffs don't come more transpa...</td>\n",
       "      <td>0</td>\n",
       "    </tr>\n",
       "    <tr>\n",
       "      <th>7</th>\n",
       "      <td>Percy Jackson isn't a great movie, but it's a ...</td>\n",
       "      <td>1</td>\n",
       "    </tr>\n",
       "    <tr>\n",
       "      <th>8</th>\n",
       "      <td>Fun, brisk and imaginative</td>\n",
       "      <td>1</td>\n",
       "    </tr>\n",
       "    <tr>\n",
       "      <th>9</th>\n",
       "      <td>Crammed with dragons, set-destroying fights an...</td>\n",
       "      <td>0</td>\n",
       "    </tr>\n",
       "  </tbody>\n",
       "</table>\n",
       "</div>"
      ],
      "text/plain": [
       "                                      review_content  sentiment\n",
       "3  Whether audiences will get behind The Lightnin...          1\n",
       "6  Harry Potter knockoffs don't come more transpa...          0\n",
       "7  Percy Jackson isn't a great movie, but it's a ...          1\n",
       "8                         Fun, brisk and imaginative          1\n",
       "9  Crammed with dragons, set-destroying fights an...          0"
      ]
     },
     "execution_count": 17,
     "metadata": {},
     "output_type": "execute_result"
    }
   ],
   "source": [
    "# Filtrar las columnas que se van a utilizar\n",
    "df = df[['review_content', 'sentiment']]\n",
    "\n",
    "# Cambio de etiquetas de sentimiento a valores numéricos \n",
    "# 'positivo' a 1 y 'negativo' a 0\n",
    "target_map = {'positivo': 1, 'negativo': 0}\n",
    "df['sentiment'] = df['sentiment'].map(target_map)\n",
    "df.head(5)"
   ]
  },
  {
   "cell_type": "markdown",
   "id": "bf36dfd6",
   "metadata": {},
   "source": [
    "### Modelamiento"
   ]
  },
  {
   "cell_type": "code",
   "execution_count": 18,
   "id": "bb5af742",
   "metadata": {},
   "outputs": [
    {
     "name": "stderr",
     "output_type": "stream",
     "text": [
      "[nltk_data] Downloading package stopwords to\n",
      "[nltk_data]     C:\\Users\\jmuri\\AppData\\Roaming\\nltk_data...\n",
      "[nltk_data]   Package stopwords is already up-to-date!\n"
     ]
    }
   ],
   "source": [
    "# Descargar stopwords de NLTK\n",
    "nltk.download('stopwords')\n",
    "\n",
    "# Convertir las columnas a listas\n",
    "texts = df['review_content'].astype(str).tolist()\n",
    "labels = df['sentiment'].astype(int).tolist()\n",
    "\n",
    "# Tokenizador de BERT\n",
    "tokenizer = AutoTokenizer.from_pretrained(\"bert-base-uncased\")\n",
    "\n",
    "# Lista de stopwords\n",
    "stop_words = set(stopwords.words('english'))\n",
    "\n",
    "# Función de tokenización de los textos planos\n",
    "def tokenize_and_remove_stopwords(texts):\n",
    "    filtered_texts = []\n",
    "    for text in texts:\n",
    "        tokens = tokenizer.tokenize(text)\n",
    "        tokens = [token for token in tokens if token.lower() not in stop_words]\n",
    "        filtered_texts.append(\" \".join(tokens))\n",
    "    return filtered_texts\n",
    "\n",
    "tokenized_texts = tokenize_and_remove_stopwords(texts)\n",
    "\n",
    "# Separa los datos en conjuntos de entrenamiento y prueba\n",
    "X_train, X_test, y_train, y_test = train_test_split(tokenized_texts, labels, test_size=0.2, random_state=42)\n",
    "\n",
    "# Vectorización clásica (TF-IDF)\n",
    "vectorizer = TfidfVectorizer(max_features=5000)\n",
    "X_train_vec = vectorizer.fit_transform(X_train)\n",
    "X_test_vec = vectorizer.transform(X_test)"
   ]
  }
 ],
 "metadata": {
  "kernelspec": {
   "display_name": "Python 3",
   "language": "python",
   "name": "python3"
  },
  "language_info": {
   "codemirror_mode": {
    "name": "ipython",
    "version": 3
   },
   "file_extension": ".py",
   "mimetype": "text/x-python",
   "name": "python",
   "nbconvert_exporter": "python",
   "pygments_lexer": "ipython3",
   "version": "3.12.10"
  }
 },
 "nbformat": 4,
 "nbformat_minor": 5
}
