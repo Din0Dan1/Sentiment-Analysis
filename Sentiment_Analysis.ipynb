{
 "cells": [
  {
   "cell_type": "code",
   "id": "15ca40c9",
   "metadata": {
    "ExecuteTime": {
     "end_time": "2025-07-16T17:22:08.387129Z",
     "start_time": "2025-07-16T17:21:07.916913Z"
    }
   },
   "source": [
    "import pandas as pd\n",
    "import sklearn as sk\n",
    "import nltk \n",
    "from nltk.corpus import stopwords\n",
    "from sklearn.feature_extraction.text import CountVectorizer, TfidfVectorizer\n",
    "from sklearn.linear_model import LogisticRegression\n",
    "from sklearn.metrics import roc_auc_score, f1_score, confusion_matrix\n",
    "from sklearn.model_selection import train_test_split\n",
    "from transformers import AutoTokenizer"
   ],
   "outputs": [],
   "execution_count": 1
  },
  {
   "cell_type": "markdown",
   "id": "a2e6efe2",
   "metadata": {},
   "source": [
    "### Importación de los datos y limpieza"
   ]
  },
  {
   "cell_type": "code",
   "id": "6c89af7f6793a1d",
   "metadata": {
    "ExecuteTime": {
     "end_time": "2025-07-16T17:22:19.328052Z",
     "start_time": "2025-07-16T17:22:19.314623Z"
    }
   },
   "source": [
    "import json\n",
    "# Cargar la configuración desde un archivo JSON\n",
    "with open(\"configura_local.json\", encoding=\"utf-8\") as f:\n",
    "    config = json.load(f)\n",
    "\n",
    "print(\"Ruta cargada:\", config[\"data_path\"])"
   ],
   "outputs": [
    {
     "name": "stdout",
     "output_type": "stream",
     "text": [
      "Ruta cargada: C:/Users/JOSE DANIEL M/OneDrive/Documentos/Universidad/Aprendizaje Estadístico/Aprendizaje Estadístico/RottenTomatoes/rotten_tomatoes_critic_reviews.csv\n"
     ]
    }
   ],
   "execution_count": 2
  },
  {
   "cell_type": "code",
   "id": "ac9bd021",
   "metadata": {
    "ExecuteTime": {
     "end_time": "2025-07-16T17:22:29.235531Z",
     "start_time": "2025-07-16T17:22:23.270953Z"
    }
   },
   "source": [
    "file_path = json.load(open(\"configura_local.json\", encoding=\"utf-8\"))[\"data_path\"]\n",
    "df = pd.read_csv(file_path)"
   ],
   "outputs": [],
   "execution_count": 3
  },
  {
   "cell_type": "code",
   "id": "be4edb43",
   "metadata": {
    "ExecuteTime": {
     "end_time": "2025-07-16T17:22:30.532273Z",
     "start_time": "2025-07-16T17:22:30.508231Z"
    }
   },
   "source": [
    "df.head(5)"
   ],
   "outputs": [
    {
     "data": {
      "text/plain": [
       "  rotten_tomatoes_link      critic_name  top_critic           publisher_name  \\\n",
       "0            m/0814255  Andrew L. Urban       False           Urban Cinefile   \n",
       "1            m/0814255    Louise Keller       False           Urban Cinefile   \n",
       "2            m/0814255              NaN       False      FILMINK (Australia)   \n",
       "3            m/0814255     Ben McEachen       False  Sunday Mail (Australia)   \n",
       "4            m/0814255      Ethan Alter        True       Hollywood Reporter   \n",
       "\n",
       "  review_type review_score review_date  \\\n",
       "0       Fresh          NaN  2010-02-06   \n",
       "1       Fresh          NaN  2010-02-06   \n",
       "2       Fresh          NaN  2010-02-09   \n",
       "3       Fresh        3.5/5  2010-02-09   \n",
       "4      Rotten          NaN  2010-02-10   \n",
       "\n",
       "                                      review_content  \n",
       "0  A fantasy adventure that fuses Greek mythology...  \n",
       "1  Uma Thurman as Medusa, the gorgon with a coiff...  \n",
       "2  With a top-notch cast and dazzling special eff...  \n",
       "3  Whether audiences will get behind The Lightnin...  \n",
       "4  What's really lacking in The Lightning Thief i...  "
      ],
      "text/html": [
       "<div>\n",
       "<style scoped>\n",
       "    .dataframe tbody tr th:only-of-type {\n",
       "        vertical-align: middle;\n",
       "    }\n",
       "\n",
       "    .dataframe tbody tr th {\n",
       "        vertical-align: top;\n",
       "    }\n",
       "\n",
       "    .dataframe thead th {\n",
       "        text-align: right;\n",
       "    }\n",
       "</style>\n",
       "<table border=\"1\" class=\"dataframe\">\n",
       "  <thead>\n",
       "    <tr style=\"text-align: right;\">\n",
       "      <th></th>\n",
       "      <th>rotten_tomatoes_link</th>\n",
       "      <th>critic_name</th>\n",
       "      <th>top_critic</th>\n",
       "      <th>publisher_name</th>\n",
       "      <th>review_type</th>\n",
       "      <th>review_score</th>\n",
       "      <th>review_date</th>\n",
       "      <th>review_content</th>\n",
       "    </tr>\n",
       "  </thead>\n",
       "  <tbody>\n",
       "    <tr>\n",
       "      <th>0</th>\n",
       "      <td>m/0814255</td>\n",
       "      <td>Andrew L. Urban</td>\n",
       "      <td>False</td>\n",
       "      <td>Urban Cinefile</td>\n",
       "      <td>Fresh</td>\n",
       "      <td>NaN</td>\n",
       "      <td>2010-02-06</td>\n",
       "      <td>A fantasy adventure that fuses Greek mythology...</td>\n",
       "    </tr>\n",
       "    <tr>\n",
       "      <th>1</th>\n",
       "      <td>m/0814255</td>\n",
       "      <td>Louise Keller</td>\n",
       "      <td>False</td>\n",
       "      <td>Urban Cinefile</td>\n",
       "      <td>Fresh</td>\n",
       "      <td>NaN</td>\n",
       "      <td>2010-02-06</td>\n",
       "      <td>Uma Thurman as Medusa, the gorgon with a coiff...</td>\n",
       "    </tr>\n",
       "    <tr>\n",
       "      <th>2</th>\n",
       "      <td>m/0814255</td>\n",
       "      <td>NaN</td>\n",
       "      <td>False</td>\n",
       "      <td>FILMINK (Australia)</td>\n",
       "      <td>Fresh</td>\n",
       "      <td>NaN</td>\n",
       "      <td>2010-02-09</td>\n",
       "      <td>With a top-notch cast and dazzling special eff...</td>\n",
       "    </tr>\n",
       "    <tr>\n",
       "      <th>3</th>\n",
       "      <td>m/0814255</td>\n",
       "      <td>Ben McEachen</td>\n",
       "      <td>False</td>\n",
       "      <td>Sunday Mail (Australia)</td>\n",
       "      <td>Fresh</td>\n",
       "      <td>3.5/5</td>\n",
       "      <td>2010-02-09</td>\n",
       "      <td>Whether audiences will get behind The Lightnin...</td>\n",
       "    </tr>\n",
       "    <tr>\n",
       "      <th>4</th>\n",
       "      <td>m/0814255</td>\n",
       "      <td>Ethan Alter</td>\n",
       "      <td>True</td>\n",
       "      <td>Hollywood Reporter</td>\n",
       "      <td>Rotten</td>\n",
       "      <td>NaN</td>\n",
       "      <td>2010-02-10</td>\n",
       "      <td>What's really lacking in The Lightning Thief i...</td>\n",
       "    </tr>\n",
       "  </tbody>\n",
       "</table>\n",
       "</div>"
      ]
     },
     "execution_count": 4,
     "metadata": {},
     "output_type": "execute_result"
    }
   ],
   "execution_count": 4
  },
  {
   "cell_type": "code",
   "id": "6c4428c1",
   "metadata": {
    "ExecuteTime": {
     "end_time": "2025-07-16T17:22:34.048108Z",
     "start_time": "2025-07-16T17:22:33.953109Z"
    }
   },
   "source": [
    "#Filtrado de columnas que se van a utilizar\n",
    "columnas = ['review_score','review_content']\n",
    "df = df[columnas]\n",
    "df.head(5)"
   ],
   "outputs": [
    {
     "data": {
      "text/plain": [
       "  review_score                                     review_content\n",
       "0          NaN  A fantasy adventure that fuses Greek mythology...\n",
       "1          NaN  Uma Thurman as Medusa, the gorgon with a coiff...\n",
       "2          NaN  With a top-notch cast and dazzling special eff...\n",
       "3        3.5/5  Whether audiences will get behind The Lightnin...\n",
       "4          NaN  What's really lacking in The Lightning Thief i..."
      ],
      "text/html": [
       "<div>\n",
       "<style scoped>\n",
       "    .dataframe tbody tr th:only-of-type {\n",
       "        vertical-align: middle;\n",
       "    }\n",
       "\n",
       "    .dataframe tbody tr th {\n",
       "        vertical-align: top;\n",
       "    }\n",
       "\n",
       "    .dataframe thead th {\n",
       "        text-align: right;\n",
       "    }\n",
       "</style>\n",
       "<table border=\"1\" class=\"dataframe\">\n",
       "  <thead>\n",
       "    <tr style=\"text-align: right;\">\n",
       "      <th></th>\n",
       "      <th>review_score</th>\n",
       "      <th>review_content</th>\n",
       "    </tr>\n",
       "  </thead>\n",
       "  <tbody>\n",
       "    <tr>\n",
       "      <th>0</th>\n",
       "      <td>NaN</td>\n",
       "      <td>A fantasy adventure that fuses Greek mythology...</td>\n",
       "    </tr>\n",
       "    <tr>\n",
       "      <th>1</th>\n",
       "      <td>NaN</td>\n",
       "      <td>Uma Thurman as Medusa, the gorgon with a coiff...</td>\n",
       "    </tr>\n",
       "    <tr>\n",
       "      <th>2</th>\n",
       "      <td>NaN</td>\n",
       "      <td>With a top-notch cast and dazzling special eff...</td>\n",
       "    </tr>\n",
       "    <tr>\n",
       "      <th>3</th>\n",
       "      <td>3.5/5</td>\n",
       "      <td>Whether audiences will get behind The Lightnin...</td>\n",
       "    </tr>\n",
       "    <tr>\n",
       "      <th>4</th>\n",
       "      <td>NaN</td>\n",
       "      <td>What's really lacking in The Lightning Thief i...</td>\n",
       "    </tr>\n",
       "  </tbody>\n",
       "</table>\n",
       "</div>"
      ]
     },
     "execution_count": 5,
     "metadata": {},
     "output_type": "execute_result"
    }
   ],
   "execution_count": 5
  },
  {
   "cell_type": "code",
   "id": "9af754f1",
   "metadata": {
    "ExecuteTime": {
     "end_time": "2025-07-16T17:22:38.786918Z",
     "start_time": "2025-07-16T17:22:38.583084Z"
    }
   },
   "source": [
    "# Eliminación de filas con valores nulos\n",
    "df.dropna(inplace=True)"
   ],
   "outputs": [],
   "execution_count": 6
  },
  {
   "cell_type": "code",
   "id": "47468532",
   "metadata": {
    "ExecuteTime": {
     "end_time": "2025-07-16T17:22:42.503471Z",
     "start_time": "2025-07-16T17:22:42.237104Z"
    }
   },
   "source": [
    "# Diccionario de conversión de letras a escala de 5 como fracción\n",
    "letter_to_score = {\n",
    "    'A': '5/5',\n",
    "    'A-': '4.7/5',\n",
    "    'B+': '4.3/5',\n",
    "    'B': '4/5',\n",
    "    'B-': '3.7/5',\n",
    "    'C+': '3.3/5',\n",
    "    'C': '3/5',\n",
    "    'C-': '2.7/5',\n",
    "    'D+': '2.3/5',\n",
    "    'D': '2/5',\n",
    "    'D-': '1.7/5',\n",
    "    'F': '1/5',\n",
    "}\n",
    "\n",
    "# Función para reemplazar calificaciones de letra\n",
    "def convert_score(score):\n",
    "    score_str = str(score).strip()\n",
    "    if score_str in letter_to_score:\n",
    "        return letter_to_score[score_str]\n",
    "    return score_str  # deja igual si ya es una fracción como \"3.5/5\"\n",
    "\n",
    "# Aplica la función a la columna de calificaciones\n",
    "df['review_score'] = df['review_score'].apply(convert_score)"
   ],
   "outputs": [],
   "execution_count": 7
  },
  {
   "cell_type": "code",
   "id": "c42bc705",
   "metadata": {
    "ExecuteTime": {
     "end_time": "2025-07-16T16:54:22.090622Z",
     "start_time": "2025-07-16T16:54:22.077494Z"
    }
   },
   "source": [
    "df.head(5)"
   ],
   "outputs": [
    {
     "data": {
      "text/plain": [
       "  review_score                                     review_content\n",
       "3        3.5/5  Whether audiences will get behind The Lightnin...\n",
       "6          1/4  Harry Potter knockoffs don't come more transpa...\n",
       "7        3.5/5  Percy Jackson isn't a great movie, but it's a ...\n",
       "8          4/5                         Fun, brisk and imaginative\n",
       "9          3/5  Crammed with dragons, set-destroying fights an..."
      ],
      "text/html": [
       "<div>\n",
       "<style scoped>\n",
       "    .dataframe tbody tr th:only-of-type {\n",
       "        vertical-align: middle;\n",
       "    }\n",
       "\n",
       "    .dataframe tbody tr th {\n",
       "        vertical-align: top;\n",
       "    }\n",
       "\n",
       "    .dataframe thead th {\n",
       "        text-align: right;\n",
       "    }\n",
       "</style>\n",
       "<table border=\"1\" class=\"dataframe\">\n",
       "  <thead>\n",
       "    <tr style=\"text-align: right;\">\n",
       "      <th></th>\n",
       "      <th>review_score</th>\n",
       "      <th>review_content</th>\n",
       "    </tr>\n",
       "  </thead>\n",
       "  <tbody>\n",
       "    <tr>\n",
       "      <th>3</th>\n",
       "      <td>3.5/5</td>\n",
       "      <td>Whether audiences will get behind The Lightnin...</td>\n",
       "    </tr>\n",
       "    <tr>\n",
       "      <th>6</th>\n",
       "      <td>1/4</td>\n",
       "      <td>Harry Potter knockoffs don't come more transpa...</td>\n",
       "    </tr>\n",
       "    <tr>\n",
       "      <th>7</th>\n",
       "      <td>3.5/5</td>\n",
       "      <td>Percy Jackson isn't a great movie, but it's a ...</td>\n",
       "    </tr>\n",
       "    <tr>\n",
       "      <th>8</th>\n",
       "      <td>4/5</td>\n",
       "      <td>Fun, brisk and imaginative</td>\n",
       "    </tr>\n",
       "    <tr>\n",
       "      <th>9</th>\n",
       "      <td>3/5</td>\n",
       "      <td>Crammed with dragons, set-destroying fights an...</td>\n",
       "    </tr>\n",
       "  </tbody>\n",
       "</table>\n",
       "</div>"
      ]
     },
     "execution_count": 8,
     "metadata": {},
     "output_type": "execute_result"
    }
   ],
   "execution_count": 8
  },
  {
   "cell_type": "code",
   "id": "334c0750",
   "metadata": {
    "ExecuteTime": {
     "end_time": "2025-07-16T17:22:51.882904Z",
     "start_time": "2025-07-16T17:22:50.973852Z"
    }
   },
   "source": [
    "# Convertir fracciones a número decimal\n",
    "def fraction_to_float(score_str):\n",
    "    try:\n",
    "        num, den = score_str.split('/')\n",
    "        return float(num) / float(den)\n",
    "    except:\n",
    "        return None  # para manejar errores o valores inesperados\n",
    "\n",
    "df['review_score'] = df['review_score'].apply(fraction_to_float)\n"
   ],
   "outputs": [],
   "execution_count": 8
  },
  {
   "cell_type": "code",
   "id": "709adab2",
   "metadata": {
    "ExecuteTime": {
     "end_time": "2025-07-16T16:54:35.425702Z",
     "start_time": "2025-07-16T16:54:35.413814Z"
    }
   },
   "source": [
    "df.head(5)"
   ],
   "outputs": [
    {
     "data": {
      "text/plain": [
       "   review_score                                     review_content\n",
       "3          0.70  Whether audiences will get behind The Lightnin...\n",
       "6          0.25  Harry Potter knockoffs don't come more transpa...\n",
       "7          0.70  Percy Jackson isn't a great movie, but it's a ...\n",
       "8          0.80                         Fun, brisk and imaginative\n",
       "9          0.60  Crammed with dragons, set-destroying fights an..."
      ],
      "text/html": [
       "<div>\n",
       "<style scoped>\n",
       "    .dataframe tbody tr th:only-of-type {\n",
       "        vertical-align: middle;\n",
       "    }\n",
       "\n",
       "    .dataframe tbody tr th {\n",
       "        vertical-align: top;\n",
       "    }\n",
       "\n",
       "    .dataframe thead th {\n",
       "        text-align: right;\n",
       "    }\n",
       "</style>\n",
       "<table border=\"1\" class=\"dataframe\">\n",
       "  <thead>\n",
       "    <tr style=\"text-align: right;\">\n",
       "      <th></th>\n",
       "      <th>review_score</th>\n",
       "      <th>review_content</th>\n",
       "    </tr>\n",
       "  </thead>\n",
       "  <tbody>\n",
       "    <tr>\n",
       "      <th>3</th>\n",
       "      <td>0.70</td>\n",
       "      <td>Whether audiences will get behind The Lightnin...</td>\n",
       "    </tr>\n",
       "    <tr>\n",
       "      <th>6</th>\n",
       "      <td>0.25</td>\n",
       "      <td>Harry Potter knockoffs don't come more transpa...</td>\n",
       "    </tr>\n",
       "    <tr>\n",
       "      <th>7</th>\n",
       "      <td>0.70</td>\n",
       "      <td>Percy Jackson isn't a great movie, but it's a ...</td>\n",
       "    </tr>\n",
       "    <tr>\n",
       "      <th>8</th>\n",
       "      <td>0.80</td>\n",
       "      <td>Fun, brisk and imaginative</td>\n",
       "    </tr>\n",
       "    <tr>\n",
       "      <th>9</th>\n",
       "      <td>0.60</td>\n",
       "      <td>Crammed with dragons, set-destroying fights an...</td>\n",
       "    </tr>\n",
       "  </tbody>\n",
       "</table>\n",
       "</div>"
      ]
     },
     "execution_count": 10,
     "metadata": {},
     "output_type": "execute_result"
    }
   ],
   "execution_count": 10
  },
  {
   "cell_type": "code",
   "id": "2b7b8932",
   "metadata": {
    "ExecuteTime": {
     "end_time": "2025-07-16T17:22:56.209769Z",
     "start_time": "2025-07-16T17:22:56.169161Z"
    }
   },
   "source": [
    "# Calcular la mediana\n",
    "median_score = df['review_score'].median()\n",
    "print(\"Mediana de review_score:\", round(median_score, 3))"
   ],
   "outputs": [
    {
     "name": "stdout",
     "output_type": "stream",
     "text": [
      "Mediana de review_score: 0.66\n"
     ]
    }
   ],
   "execution_count": 9
  },
  {
   "cell_type": "code",
   "id": "c434c061",
   "metadata": {
    "ExecuteTime": {
     "end_time": "2025-07-16T17:22:59.591417Z",
     "start_time": "2025-07-16T17:22:59.377265Z"
    }
   },
   "source": [
    "# Clasificar como 'positivo' si el score es mayor que la mediana, si no, 'negativo'\n",
    "df['sentiment'] = df['review_score'].apply(\n",
    "    lambda x: 'positivo' if x >= median_score else 'negativo'\n",
    ")"
   ],
   "outputs": [],
   "execution_count": 10
  },
  {
   "cell_type": "code",
   "id": "4cd610fa",
   "metadata": {
    "ExecuteTime": {
     "end_time": "2025-07-16T16:54:56.419217Z",
     "start_time": "2025-07-16T16:54:56.396764Z"
    }
   },
   "source": [
    "df"
   ],
   "outputs": [
    {
     "data": {
      "text/plain": [
       "         review_score                                     review_content  \\\n",
       "3                0.70  Whether audiences will get behind The Lightnin...   \n",
       "6                0.25  Harry Potter knockoffs don't come more transpa...   \n",
       "7                0.70  Percy Jackson isn't a great movie, but it's a ...   \n",
       "8                0.80                         Fun, brisk and imaginative   \n",
       "9                0.60  Crammed with dragons, set-destroying fights an...   \n",
       "...               ...                                                ...   \n",
       "1130006          0.80  As a spectacular war film with a powerful mora...   \n",
       "1130013          0.70  Seen today, it's not only a startling indictme...   \n",
       "1130014          0.86  A rousing visual spectacle that's a prequel of...   \n",
       "1130015          0.70  A simple two-act story: Prelude to war, and th...   \n",
       "1130016          0.60  Rides the line between being a pure artifact o...   \n",
       "\n",
       "        sentiment  \n",
       "3        positivo  \n",
       "6        negativo  \n",
       "7        positivo  \n",
       "8        positivo  \n",
       "9        negativo  \n",
       "...           ...  \n",
       "1130006  positivo  \n",
       "1130013  positivo  \n",
       "1130014  positivo  \n",
       "1130015  positivo  \n",
       "1130016  negativo  \n",
       "\n",
       "[758709 rows x 3 columns]"
      ],
      "text/html": [
       "<div>\n",
       "<style scoped>\n",
       "    .dataframe tbody tr th:only-of-type {\n",
       "        vertical-align: middle;\n",
       "    }\n",
       "\n",
       "    .dataframe tbody tr th {\n",
       "        vertical-align: top;\n",
       "    }\n",
       "\n",
       "    .dataframe thead th {\n",
       "        text-align: right;\n",
       "    }\n",
       "</style>\n",
       "<table border=\"1\" class=\"dataframe\">\n",
       "  <thead>\n",
       "    <tr style=\"text-align: right;\">\n",
       "      <th></th>\n",
       "      <th>review_score</th>\n",
       "      <th>review_content</th>\n",
       "      <th>sentiment</th>\n",
       "    </tr>\n",
       "  </thead>\n",
       "  <tbody>\n",
       "    <tr>\n",
       "      <th>3</th>\n",
       "      <td>0.70</td>\n",
       "      <td>Whether audiences will get behind The Lightnin...</td>\n",
       "      <td>positivo</td>\n",
       "    </tr>\n",
       "    <tr>\n",
       "      <th>6</th>\n",
       "      <td>0.25</td>\n",
       "      <td>Harry Potter knockoffs don't come more transpa...</td>\n",
       "      <td>negativo</td>\n",
       "    </tr>\n",
       "    <tr>\n",
       "      <th>7</th>\n",
       "      <td>0.70</td>\n",
       "      <td>Percy Jackson isn't a great movie, but it's a ...</td>\n",
       "      <td>positivo</td>\n",
       "    </tr>\n",
       "    <tr>\n",
       "      <th>8</th>\n",
       "      <td>0.80</td>\n",
       "      <td>Fun, brisk and imaginative</td>\n",
       "      <td>positivo</td>\n",
       "    </tr>\n",
       "    <tr>\n",
       "      <th>9</th>\n",
       "      <td>0.60</td>\n",
       "      <td>Crammed with dragons, set-destroying fights an...</td>\n",
       "      <td>negativo</td>\n",
       "    </tr>\n",
       "    <tr>\n",
       "      <th>...</th>\n",
       "      <td>...</td>\n",
       "      <td>...</td>\n",
       "      <td>...</td>\n",
       "    </tr>\n",
       "    <tr>\n",
       "      <th>1130006</th>\n",
       "      <td>0.80</td>\n",
       "      <td>As a spectacular war film with a powerful mora...</td>\n",
       "      <td>positivo</td>\n",
       "    </tr>\n",
       "    <tr>\n",
       "      <th>1130013</th>\n",
       "      <td>0.70</td>\n",
       "      <td>Seen today, it's not only a startling indictme...</td>\n",
       "      <td>positivo</td>\n",
       "    </tr>\n",
       "    <tr>\n",
       "      <th>1130014</th>\n",
       "      <td>0.86</td>\n",
       "      <td>A rousing visual spectacle that's a prequel of...</td>\n",
       "      <td>positivo</td>\n",
       "    </tr>\n",
       "    <tr>\n",
       "      <th>1130015</th>\n",
       "      <td>0.70</td>\n",
       "      <td>A simple two-act story: Prelude to war, and th...</td>\n",
       "      <td>positivo</td>\n",
       "    </tr>\n",
       "    <tr>\n",
       "      <th>1130016</th>\n",
       "      <td>0.60</td>\n",
       "      <td>Rides the line between being a pure artifact o...</td>\n",
       "      <td>negativo</td>\n",
       "    </tr>\n",
       "  </tbody>\n",
       "</table>\n",
       "<p>758709 rows × 3 columns</p>\n",
       "</div>"
      ]
     },
     "execution_count": 13,
     "metadata": {},
     "output_type": "execute_result"
    }
   ],
   "execution_count": 13
  },
  {
   "cell_type": "code",
   "id": "163ca8b1",
   "metadata": {
    "ExecuteTime": {
     "end_time": "2025-07-16T17:23:04.186428Z",
     "start_time": "2025-07-16T17:23:04.134432Z"
    }
   },
   "source": [
    "# Conteo de valores positivos y negativos de la columna 'sentiment'\n",
    "print(df['sentiment'].value_counts())"
   ],
   "outputs": [
    {
     "name": "stdout",
     "output_type": "stream",
     "text": [
      "sentiment\n",
      "positivo    386805\n",
      "negativo    371904\n",
      "Name: count, dtype: int64\n"
     ]
    }
   ],
   "execution_count": 11
  },
  {
   "metadata": {},
   "cell_type": "markdown",
   "source": "No queda balanceado exacto, pero resulta suficiente",
   "id": "e4c4024378567b6e"
  },
  {
   "cell_type": "code",
   "id": "7d95f466",
   "metadata": {
    "ExecuteTime": {
     "end_time": "2025-07-16T17:23:10.765538Z",
     "start_time": "2025-07-16T17:23:10.611766Z"
    }
   },
   "source": [
    "# Filtrar las columnas que se van a utilizar\n",
    "df = df[['review_content', 'sentiment']]\n",
    "\n",
    "# Cambio de etiquetas de sentimiento a valores numéricos \n",
    "# 'positivo' a 1 y 'negativo' a 0\n",
    "target_map = {'positivo': 1, 'negativo': 0}\n",
    "df['sentiment'] = df['sentiment'].map(target_map)\n",
    "df.head(5)"
   ],
   "outputs": [
    {
     "data": {
      "text/plain": [
       "                                      review_content  sentiment\n",
       "3  Whether audiences will get behind The Lightnin...          1\n",
       "6  Harry Potter knockoffs don't come more transpa...          0\n",
       "7  Percy Jackson isn't a great movie, but it's a ...          1\n",
       "8                         Fun, brisk and imaginative          1\n",
       "9  Crammed with dragons, set-destroying fights an...          0"
      ],
      "text/html": [
       "<div>\n",
       "<style scoped>\n",
       "    .dataframe tbody tr th:only-of-type {\n",
       "        vertical-align: middle;\n",
       "    }\n",
       "\n",
       "    .dataframe tbody tr th {\n",
       "        vertical-align: top;\n",
       "    }\n",
       "\n",
       "    .dataframe thead th {\n",
       "        text-align: right;\n",
       "    }\n",
       "</style>\n",
       "<table border=\"1\" class=\"dataframe\">\n",
       "  <thead>\n",
       "    <tr style=\"text-align: right;\">\n",
       "      <th></th>\n",
       "      <th>review_content</th>\n",
       "      <th>sentiment</th>\n",
       "    </tr>\n",
       "  </thead>\n",
       "  <tbody>\n",
       "    <tr>\n",
       "      <th>3</th>\n",
       "      <td>Whether audiences will get behind The Lightnin...</td>\n",
       "      <td>1</td>\n",
       "    </tr>\n",
       "    <tr>\n",
       "      <th>6</th>\n",
       "      <td>Harry Potter knockoffs don't come more transpa...</td>\n",
       "      <td>0</td>\n",
       "    </tr>\n",
       "    <tr>\n",
       "      <th>7</th>\n",
       "      <td>Percy Jackson isn't a great movie, but it's a ...</td>\n",
       "      <td>1</td>\n",
       "    </tr>\n",
       "    <tr>\n",
       "      <th>8</th>\n",
       "      <td>Fun, brisk and imaginative</td>\n",
       "      <td>1</td>\n",
       "    </tr>\n",
       "    <tr>\n",
       "      <th>9</th>\n",
       "      <td>Crammed with dragons, set-destroying fights an...</td>\n",
       "      <td>0</td>\n",
       "    </tr>\n",
       "  </tbody>\n",
       "</table>\n",
       "</div>"
      ]
     },
     "execution_count": 12,
     "metadata": {},
     "output_type": "execute_result"
    }
   ],
   "execution_count": 12
  },
  {
   "metadata": {},
   "cell_type": "markdown",
   "source": "Vamos entonces a crear nuestra división Train/Test",
   "id": "e1ee33c8f3a437f7"
  },
  {
   "metadata": {
    "ExecuteTime": {
     "end_time": "2025-07-19T05:46:47.247539Z",
     "start_time": "2025-07-19T05:46:45.535865Z"
    }
   },
   "cell_type": "code",
   "source": [
    "# Definir X e y\n",
    "X = df['review_content']\n",
    "y = df['sentiment']\n",
    "\n",
    "# Dividir en entrenamiento y prueba\n",
    "X_train, X_test, y_train, y_test = train_test_split(X, y, test_size=0.2, random_state=42) #80% entrenamiento, 20% testeo\n",
    "\n",
    "# Verificación\n",
    "print(\"Entrenamiento:\", X_train.shape, y_train.shape)\n",
    "print(\"Testeo:\", X_test.shape, y_test.shape)\n"
   ],
   "id": "279847174052ceb5",
   "outputs": [
    {
     "name": "stdout",
     "output_type": "stream",
     "text": [
      "Entrenamiento: (606967,) (606967,)\n",
      "Testeo: (151742,) (151742,)\n"
     ]
    }
   ],
   "execution_count": 21
  },
  {
   "cell_type": "markdown",
   "id": "bf36dfd6",
   "metadata": {},
   "source": [
    "### Modelamiento"
   ]
  },
  {
   "metadata": {},
   "cell_type": "markdown",
   "source": [
    "## Modelo Meme\n",
    "Para empezar, vampos a  immplementar un modelo muy sencillo que tiene 50% de error. Nuestro trabajo será en las siguientes implementaciones mejorar los errores paulatinamente."
   ],
   "id": "ae5299c1beb4cfa8"
  },
  {
   "metadata": {
    "ExecuteTime": {
     "end_time": "2025-07-19T05:53:32.395745Z",
     "start_time": "2025-07-19T05:53:32.011912Z"
    }
   },
   "cell_type": "code",
   "source": [
    "import numpy as np\n",
    "from sklearn.metrics import accuracy_score, f1_score\n",
    "\n",
    "# Genera etiquetas aleatorias (0 o 1) para el conjunto de prueba\n",
    "y_pred_random = np.random.choice([0, 1], size=len(y_test))\n",
    "\n",
    "# Evalúa el desempeño del modelo aleatorio\n",
    "print(\"Accuracy:\", accuracy_score(y_test, y_pred_random))\n",
    "print(\"F1 Score:\", f1_score(y_test, y_pred_random))"
   ],
   "id": "5a24741ba5e6c990",
   "outputs": [
    {
     "name": "stdout",
     "output_type": "stream",
     "text": [
      "Accuracy: 0.5009687495881167\n",
      "F1 Score: 0.5070693920062492\n"
     ]
    }
   ],
   "execution_count": 22
  },
  {
   "metadata": {},
   "cell_type": "markdown",
   "source": "Como era de esperarse el modelo solo calsifica bien el 50% de los datos",
   "id": "e3626d3febbef303"
  },
  {
   "metadata": {},
   "cell_type": "markdown",
   "source": [
    "## Modelo de Vocabularios\n",
    "Haremos un conteo de frecuencias, empíricamente y apoyándonos de la teoría encontraremos las expresiones que más se repiten en cada clase. Ejemplo: \"awful\" siendo muy presente en los textos negativos y \"great\" en textos positivos"
   ],
   "id": "5743429861760064"
  },
  {
   "metadata": {},
   "cell_type": "markdown",
   "source": "Pero primero debemos hacer otra capa de preprocesamiento de los datos. Por el momoento, las observaciones en la base de datos df consisten solo de texto. Le haremos una tokenización, dividirlo en palabras, frases o caracteres, para hacer luego el conteo de frecuencias. Nos centraremos en eliminar puntuaciones indeseadas (mantenemos \"!\" y \"?\") y categorías gramaticales como artículos, preposiciones, conjunciones,..., también conectores que no alteren la polaridad a",
   "id": "f2e0973542a2816a"
  },
  {
   "metadata": {
    "ExecuteTime": {
     "end_time": "2025-07-19T06:17:35.725725Z",
     "start_time": "2025-07-19T06:17:35.699535Z"
    }
   },
   "cell_type": "code",
   "source": [
    "import re\n",
    "import nltk\n",
    "from nltk.corpus import stopwords\n",
    "from nltk.tokenize import word_tokenize\n",
    "\n",
    "# Descargar recursos si no están\n",
    "#nltk.download('punkt')\n",
    "#.download('stopwords')"
   ],
   "id": "58faf6e74a60c73b",
   "outputs": [],
   "execution_count": null
  },
  {
   "metadata": {
    "ExecuteTime": {
     "end_time": "2025-07-19T07:06:47.016795Z",
     "start_time": "2025-07-19T07:06:46.999700Z"
    }
   },
   "cell_type": "code",
   "source": [
    "#import nltk\n",
    "#nltk.download('punkt_tab')\n",
    "def tokenizar_con_signos(texto):\n",
    "    # Separar ? y ! con espacio si están pegados a una palabra\n",
    "    texto = re.sub(r\"([!?])\", r\" \\1 \", texto)\n",
    "    texto = re.sub(r\"\\s+\", \" \", texto)  # limpiar espacios duplicados\n",
    "    return word_tokenize(texto.lower())\n",
    "tokenizar_con_signos(\"That was great!\")  # → ['that', 'was', 'great', '!']\n",
    "tokenizar_con_signos(\"Not good?\")        # → ['not', 'good', '?']\n"
   ],
   "id": "d8577a2aa6f6c2d",
   "outputs": [
    {
     "data": {
      "text/plain": [
       "['not', 'good', '?']"
      ]
     },
     "execution_count": 28,
     "metadata": {},
     "output_type": "execute_result"
    }
   ],
   "execution_count": 28
  },
  {
   "metadata": {
    "ExecuteTime": {
     "end_time": "2025-07-19T07:18:49.217474Z",
     "start_time": "2025-07-19T07:18:49.182607Z"
    }
   },
   "cell_type": "code",
   "source": [
    "# Función para limpiar texto y tokenizar\n",
    "def limpiar_texto(texto):\n",
    "    \"\"\"\n",
    "    Preprocesa un texto: lo pasa a minúsculas, elimina puntuación (excepto ? y !),\n",
    "    tokeniza, y opcionalmente elimina stopwords.\n",
    "    \"\"\"\n",
    "    # 1. Minúsculas\n",
    "    texto = texto.lower()\n",
    "\n",
    "    # 2. Eliminar puntuación excepto ? y !\n",
    "    texto = re.sub(r\"([!?])\", r\" \\1 \", texto) #Separa ? y ! con espacio\n",
    "    texto = re.sub(r\"\\s+\", \" \", texto)  # limpiar espacios duplicados\n",
    "    texto = re.sub(r\"[^a-zA-Z\\s!?]\", \"\", texto) # elimina todo excepto letras, números, espacios, ? y !\n",
    "\n",
    "    # 3. Tokenizar\n",
    "    tokens = word_tokenize(texto)\n",
    "\n",
    "    # 4. Eliminar stopwords:\n",
    "    sw = set(stopwords.words('english')) - {\"not\", \"no\", \"nor\", \"don\", \"won\",  \"but\"}  # conservamos palabras clave\n",
    "    tokens = [word for word in tokens if word not in sw]\n",
    "\n",
    "    return tokens\n",
    "\n",
    "print(limpiar_texto(\"Wow! I did **not** expect that... 10/10 movie? Absolutely great! But my friend didn't like it.\"))"
   ],
   "id": "9207a9994695a57d",
   "outputs": [
    {
     "name": "stdout",
     "output_type": "stream",
     "text": [
      "['wow', '!', 'not', 'expect', 'movie', '?', 'absolutely', 'great', '!', 'but', 'friend', 'didnt', 'like']\n"
     ]
    }
   ],
   "execution_count": 33
  },
  {
   "metadata": {
    "ExecuteTime": {
     "end_time": "2025-07-19T08:05:29.009770Z",
     "start_time": "2025-07-19T07:59:54.261582Z"
    }
   },
   "cell_type": "code",
   "source": [
    "from collections import Counter\n",
    "\n",
    "# Tokenizar con la función que creamos personalizada limpiar_texto\n",
    "X_train['tokens'] = X_train.apply(limpiar_texto)"
   ],
   "id": "42e34096075f553c",
   "outputs": [],
   "execution_count": null
  },
  {
   "metadata": {
    "ExecuteTime": {
     "end_time": "2025-07-19T08:11:09.141397Z",
     "start_time": "2025-07-19T08:10:59.419165Z"
    }
   },
   "cell_type": "code",
   "source": [
    "# Aplanamos la lista de listas\n",
    "todos_los_tokens_positivos = [\n",
    "    token for tokens, label in zip(X_train[\"tokens\"], y_train) if label == 1 for token in tokens\n",
    "]\n",
    "\n",
    "todos_los_tokens_negativos = [\n",
    "    token for tokens, label in zip(X_train[\"tokens\"], y_train) if label == 0 for token in tokens\n",
    "]\n",
    "\n",
    "# Contamos frecuencias\n",
    "conteo_unigramas_pos = Counter(todos_los_tokens_positivos)\n",
    "conteo_unigramas_neg = Counter(todos_los_tokens_negativos)"
   ],
   "id": "cfeec4bff6428aba",
   "outputs": [],
   "execution_count": 41
  },
  {
   "metadata": {
    "ExecuteTime": {
     "end_time": "2025-07-19T08:24:32.037218Z",
     "start_time": "2025-07-19T08:24:31.978766Z"
    }
   },
   "cell_type": "code",
   "source": [
    "# Mostramos los 20 más comunes\n",
    "print(\"Positivos:\")\n",
    "conteo_unigramas_pos.most_common(10)\n",
    "#print(\"Negativos:\")\n",
    "#conteo_unigramas_neg.most_common(10)"
   ],
   "id": "b6837af7fe6779da",
   "outputs": [
    {
     "name": "stdout",
     "output_type": "stream",
     "text": [
      "Positivos:\n"
     ]
    },
    {
     "data": {
      "text/plain": [
       "[('but', 51786),\n",
       " ('film', 50362),\n",
       " ('movie', 32725),\n",
       " ('one', 28735),\n",
       " ('not', 25700),\n",
       " ('like', 18357),\n",
       " ('story', 18082),\n",
       " ('best', 14571),\n",
       " ('good', 12462),\n",
       " ('films', 12329)]"
      ]
     },
     "execution_count": 52,
     "metadata": {},
     "output_type": "execute_result"
    }
   ],
   "execution_count": 52
  }
 ],
 "metadata": {
  "kernelspec": {
   "display_name": "Python 3",
   "language": "python",
   "name": "python3"
  },
  "language_info": {
   "codemirror_mode": {
    "name": "ipython",
    "version": 3
   },
   "file_extension": ".py",
   "mimetype": "text/x-python",
   "name": "python",
   "nbconvert_exporter": "python",
   "pygments_lexer": "ipython3",
   "version": "3.12.10"
  }
 },
 "nbformat": 4,
 "nbformat_minor": 5
}
