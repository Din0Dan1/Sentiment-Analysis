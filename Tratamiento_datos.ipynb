{
 "cells": [
  {
   "cell_type": "code",
   "execution_count": 1,
   "id": "15ca40c9",
   "metadata": {
    "ExecuteTime": {
     "end_time": "2025-06-23T20:25:09.852629Z",
     "start_time": "2025-06-23T20:24:58.024611Z"
    }
   },
   "outputs": [],
   "source": [
    "import pandas as pd\n",
    "import sklearn as sk\n",
    "from sklearn.feature_extraction.text import CountVectorizer, TfidfVectorizer\n",
    "from sklearn.linear_model import LogisticRegression\n",
    "from sklearn.metrics import roc_auc_score, f1_score, confusion_matrix\n",
    "from sklearn.model_selection import train_test_split"
   ]
  },
  {
   "cell_type": "code",
   "execution_count": 2,
   "id": "6c89af7f6793a1d",
   "metadata": {
    "ExecuteTime": {
     "end_time": "2025-06-23T20:26:48.614971Z",
     "start_time": "2025-06-23T20:26:48.569826Z"
    }
   },
   "outputs": [
    {
     "name": "stdout",
     "output_type": "stream",
     "text": [
      "Ruta cargada: C:/Users/jmuri/OneDrive/Escritorio/Stuff/Proyecto aprendizaje autmomático/archiverotten/rotten_tomatoes_critic_reviews.csv\n"
     ]
    }
   ],
   "source": [
    "import json\n",
    "# Cargar la configuración desde un archivo JSON\n",
    "with open(\"configura_local.json\", encoding=\"utf-8\") as f:\n",
    "    config = json.load(f)\n",
    "\n",
    "print(\"Ruta cargada:\", config[\"data_path\"])"
   ]
  },
  {
   "cell_type": "code",
   "execution_count": 3,
   "id": "ac9bd021",
   "metadata": {
    "ExecuteTime": {
     "end_time": "2025-06-23T20:29:54.783977Z",
     "start_time": "2025-06-23T20:29:51.399878Z"
    }
   },
   "outputs": [],
   "source": [
    "file_path = json.load(open(\"configura_local.json\", encoding=\"utf-8\"))[\"data_path\"]\n",
    "df = pd.read_csv(file_path)"
   ]
  },
  {
   "cell_type": "code",
   "execution_count": 4,
   "id": "be4edb43",
   "metadata": {
    "ExecuteTime": {
     "end_time": "2025-06-23T20:29:58.682659Z",
     "start_time": "2025-06-23T20:29:58.609651Z"
    }
   },
   "outputs": [
    {
     "data": {
      "text/html": [
       "<div>\n",
       "<style scoped>\n",
       "    .dataframe tbody tr th:only-of-type {\n",
       "        vertical-align: middle;\n",
       "    }\n",
       "\n",
       "    .dataframe tbody tr th {\n",
       "        vertical-align: top;\n",
       "    }\n",
       "\n",
       "    .dataframe thead th {\n",
       "        text-align: right;\n",
       "    }\n",
       "</style>\n",
       "<table border=\"1\" class=\"dataframe\">\n",
       "  <thead>\n",
       "    <tr style=\"text-align: right;\">\n",
       "      <th></th>\n",
       "      <th>rotten_tomatoes_link</th>\n",
       "      <th>critic_name</th>\n",
       "      <th>top_critic</th>\n",
       "      <th>publisher_name</th>\n",
       "      <th>review_type</th>\n",
       "      <th>review_score</th>\n",
       "      <th>review_date</th>\n",
       "      <th>review_content</th>\n",
       "    </tr>\n",
       "  </thead>\n",
       "  <tbody>\n",
       "    <tr>\n",
       "      <th>0</th>\n",
       "      <td>m/0814255</td>\n",
       "      <td>Andrew L. Urban</td>\n",
       "      <td>False</td>\n",
       "      <td>Urban Cinefile</td>\n",
       "      <td>Fresh</td>\n",
       "      <td>NaN</td>\n",
       "      <td>2010-02-06</td>\n",
       "      <td>A fantasy adventure that fuses Greek mythology...</td>\n",
       "    </tr>\n",
       "    <tr>\n",
       "      <th>1</th>\n",
       "      <td>m/0814255</td>\n",
       "      <td>Louise Keller</td>\n",
       "      <td>False</td>\n",
       "      <td>Urban Cinefile</td>\n",
       "      <td>Fresh</td>\n",
       "      <td>NaN</td>\n",
       "      <td>2010-02-06</td>\n",
       "      <td>Uma Thurman as Medusa, the gorgon with a coiff...</td>\n",
       "    </tr>\n",
       "    <tr>\n",
       "      <th>2</th>\n",
       "      <td>m/0814255</td>\n",
       "      <td>NaN</td>\n",
       "      <td>False</td>\n",
       "      <td>FILMINK (Australia)</td>\n",
       "      <td>Fresh</td>\n",
       "      <td>NaN</td>\n",
       "      <td>2010-02-09</td>\n",
       "      <td>With a top-notch cast and dazzling special eff...</td>\n",
       "    </tr>\n",
       "    <tr>\n",
       "      <th>3</th>\n",
       "      <td>m/0814255</td>\n",
       "      <td>Ben McEachen</td>\n",
       "      <td>False</td>\n",
       "      <td>Sunday Mail (Australia)</td>\n",
       "      <td>Fresh</td>\n",
       "      <td>3.5/5</td>\n",
       "      <td>2010-02-09</td>\n",
       "      <td>Whether audiences will get behind The Lightnin...</td>\n",
       "    </tr>\n",
       "    <tr>\n",
       "      <th>4</th>\n",
       "      <td>m/0814255</td>\n",
       "      <td>Ethan Alter</td>\n",
       "      <td>True</td>\n",
       "      <td>Hollywood Reporter</td>\n",
       "      <td>Rotten</td>\n",
       "      <td>NaN</td>\n",
       "      <td>2010-02-10</td>\n",
       "      <td>What's really lacking in The Lightning Thief i...</td>\n",
       "    </tr>\n",
       "  </tbody>\n",
       "</table>\n",
       "</div>"
      ],
      "text/plain": [
       "  rotten_tomatoes_link      critic_name  top_critic           publisher_name  \\\n",
       "0            m/0814255  Andrew L. Urban       False           Urban Cinefile   \n",
       "1            m/0814255    Louise Keller       False           Urban Cinefile   \n",
       "2            m/0814255              NaN       False      FILMINK (Australia)   \n",
       "3            m/0814255     Ben McEachen       False  Sunday Mail (Australia)   \n",
       "4            m/0814255      Ethan Alter        True       Hollywood Reporter   \n",
       "\n",
       "  review_type review_score review_date  \\\n",
       "0       Fresh          NaN  2010-02-06   \n",
       "1       Fresh          NaN  2010-02-06   \n",
       "2       Fresh          NaN  2010-02-09   \n",
       "3       Fresh        3.5/5  2010-02-09   \n",
       "4      Rotten          NaN  2010-02-10   \n",
       "\n",
       "                                      review_content  \n",
       "0  A fantasy adventure that fuses Greek mythology...  \n",
       "1  Uma Thurman as Medusa, the gorgon with a coiff...  \n",
       "2  With a top-notch cast and dazzling special eff...  \n",
       "3  Whether audiences will get behind The Lightnin...  \n",
       "4  What's really lacking in The Lightning Thief i...  "
      ]
     },
     "execution_count": 4,
     "metadata": {},
     "output_type": "execute_result"
    }
   ],
   "source": [
    "df.head(5)"
   ]
  },
  {
   "cell_type": "code",
   "execution_count": 5,
   "id": "6c4428c1",
   "metadata": {
    "ExecuteTime": {
     "end_time": "2025-06-23T20:38:14.629009Z",
     "start_time": "2025-06-23T20:38:13.165980Z"
    }
   },
   "outputs": [
    {
     "data": {
      "text/html": [
       "<div>\n",
       "<style scoped>\n",
       "    .dataframe tbody tr th:only-of-type {\n",
       "        vertical-align: middle;\n",
       "    }\n",
       "\n",
       "    .dataframe tbody tr th {\n",
       "        vertical-align: top;\n",
       "    }\n",
       "\n",
       "    .dataframe thead th {\n",
       "        text-align: right;\n",
       "    }\n",
       "</style>\n",
       "<table border=\"1\" class=\"dataframe\">\n",
       "  <thead>\n",
       "    <tr style=\"text-align: right;\">\n",
       "      <th></th>\n",
       "      <th>review_score</th>\n",
       "      <th>review_content</th>\n",
       "    </tr>\n",
       "  </thead>\n",
       "  <tbody>\n",
       "    <tr>\n",
       "      <th>0</th>\n",
       "      <td>NaN</td>\n",
       "      <td>A fantasy adventure that fuses Greek mythology...</td>\n",
       "    </tr>\n",
       "    <tr>\n",
       "      <th>1</th>\n",
       "      <td>NaN</td>\n",
       "      <td>Uma Thurman as Medusa, the gorgon with a coiff...</td>\n",
       "    </tr>\n",
       "    <tr>\n",
       "      <th>2</th>\n",
       "      <td>NaN</td>\n",
       "      <td>With a top-notch cast and dazzling special eff...</td>\n",
       "    </tr>\n",
       "    <tr>\n",
       "      <th>3</th>\n",
       "      <td>3.5/5</td>\n",
       "      <td>Whether audiences will get behind The Lightnin...</td>\n",
       "    </tr>\n",
       "    <tr>\n",
       "      <th>4</th>\n",
       "      <td>NaN</td>\n",
       "      <td>What's really lacking in The Lightning Thief i...</td>\n",
       "    </tr>\n",
       "  </tbody>\n",
       "</table>\n",
       "</div>"
      ],
      "text/plain": [
       "  review_score                                     review_content\n",
       "0          NaN  A fantasy adventure that fuses Greek mythology...\n",
       "1          NaN  Uma Thurman as Medusa, the gorgon with a coiff...\n",
       "2          NaN  With a top-notch cast and dazzling special eff...\n",
       "3        3.5/5  Whether audiences will get behind The Lightnin...\n",
       "4          NaN  What's really lacking in The Lightning Thief i..."
      ]
     },
     "execution_count": 5,
     "metadata": {},
     "output_type": "execute_result"
    }
   ],
   "source": [
    "#Filtrado de columnas que se van a utilizar\n",
    "columnas = ['review_score','review_content']\n",
    "df = df[columnas]\n",
    "df.head(5)"
   ]
  },
  {
   "cell_type": "code",
   "execution_count": 6,
   "id": "9af754f1",
   "metadata": {
    "ExecuteTime": {
     "end_time": "2025-06-23T20:38:24.885348Z",
     "start_time": "2025-06-23T20:38:24.745972Z"
    }
   },
   "outputs": [],
   "source": [
    "df.dropna(inplace=True)"
   ]
  },
  {
   "cell_type": "code",
   "execution_count": 7,
   "id": "47468532",
   "metadata": {
    "ExecuteTime": {
     "end_time": "2025-06-23T20:38:32.486192Z",
     "start_time": "2025-06-23T20:38:32.335039Z"
    }
   },
   "outputs": [],
   "source": [
    "# Diccionario de conversión de letras a escala de 5 como fracción\n",
    "letter_to_score = {\n",
    "    'A': '5/5',\n",
    "    'A-': '4.7/5',\n",
    "    'B+': '4.3/5',\n",
    "    'B': '4/5',\n",
    "    'B-': '3.7/5',\n",
    "    'C+': '3.3/5',\n",
    "    'C': '3/5',\n",
    "    'C-': '2.7/5',\n",
    "    'D+': '2.3/5',\n",
    "    'D': '2/5',\n",
    "    'D-': '1.7/5',\n",
    "    'F': '1/5',\n",
    "}\n",
    "\n",
    "# Función para reemplazar calificaciones de letra\n",
    "def convert_score(score):\n",
    "    score_str = str(score).strip()\n",
    "    if score_str in letter_to_score:\n",
    "        return letter_to_score[score_str]\n",
    "    return score_str  # deja igual si ya es una fracción como \"3.5/5\"\n",
    "\n",
    "# Aplica la función a la columna de calificaciones\n",
    "df['review_score'] = df['review_score'].apply(convert_score)"
   ]
  },
  {
   "cell_type": "code",
   "execution_count": 8,
   "id": "c42bc705",
   "metadata": {
    "ExecuteTime": {
     "end_time": "2025-06-23T20:38:38.567566Z",
     "start_time": "2025-06-23T20:38:38.550247Z"
    }
   },
   "outputs": [
    {
     "data": {
      "text/html": [
       "<div>\n",
       "<style scoped>\n",
       "    .dataframe tbody tr th:only-of-type {\n",
       "        vertical-align: middle;\n",
       "    }\n",
       "\n",
       "    .dataframe tbody tr th {\n",
       "        vertical-align: top;\n",
       "    }\n",
       "\n",
       "    .dataframe thead th {\n",
       "        text-align: right;\n",
       "    }\n",
       "</style>\n",
       "<table border=\"1\" class=\"dataframe\">\n",
       "  <thead>\n",
       "    <tr style=\"text-align: right;\">\n",
       "      <th></th>\n",
       "      <th>review_score</th>\n",
       "      <th>review_content</th>\n",
       "    </tr>\n",
       "  </thead>\n",
       "  <tbody>\n",
       "    <tr>\n",
       "      <th>3</th>\n",
       "      <td>3.5/5</td>\n",
       "      <td>Whether audiences will get behind The Lightnin...</td>\n",
       "    </tr>\n",
       "    <tr>\n",
       "      <th>6</th>\n",
       "      <td>1/4</td>\n",
       "      <td>Harry Potter knockoffs don't come more transpa...</td>\n",
       "    </tr>\n",
       "    <tr>\n",
       "      <th>7</th>\n",
       "      <td>3.5/5</td>\n",
       "      <td>Percy Jackson isn't a great movie, but it's a ...</td>\n",
       "    </tr>\n",
       "    <tr>\n",
       "      <th>8</th>\n",
       "      <td>4/5</td>\n",
       "      <td>Fun, brisk and imaginative</td>\n",
       "    </tr>\n",
       "    <tr>\n",
       "      <th>9</th>\n",
       "      <td>3/5</td>\n",
       "      <td>Crammed with dragons, set-destroying fights an...</td>\n",
       "    </tr>\n",
       "  </tbody>\n",
       "</table>\n",
       "</div>"
      ],
      "text/plain": [
       "  review_score                                     review_content\n",
       "3        3.5/5  Whether audiences will get behind The Lightnin...\n",
       "6          1/4  Harry Potter knockoffs don't come more transpa...\n",
       "7        3.5/5  Percy Jackson isn't a great movie, but it's a ...\n",
       "8          4/5                         Fun, brisk and imaginative\n",
       "9          3/5  Crammed with dragons, set-destroying fights an..."
      ]
     },
     "execution_count": 8,
     "metadata": {},
     "output_type": "execute_result"
    }
   ],
   "source": [
    "df.head(5)"
   ]
  },
  {
   "cell_type": "code",
   "execution_count": 9,
   "id": "334c0750",
   "metadata": {
    "ExecuteTime": {
     "end_time": "2025-06-23T20:38:56.146602Z",
     "start_time": "2025-06-23T20:38:55.780433Z"
    }
   },
   "outputs": [],
   "source": [
    "# Convertir fracciones a número decimal\n",
    "def fraction_to_float(score_str):\n",
    "    try:\n",
    "        num, den = score_str.split('/')\n",
    "        return float(num) / float(den)\n",
    "    except:\n",
    "        return None  # para manejar errores o valores inesperados\n",
    "\n",
    "df['review_score'] = df['review_score'].apply(fraction_to_float)\n"
   ]
  },
  {
   "cell_type": "code",
   "execution_count": 10,
   "id": "709adab2",
   "metadata": {
    "ExecuteTime": {
     "end_time": "2025-06-23T20:39:01.625921Z",
     "start_time": "2025-06-23T20:39:01.610177Z"
    }
   },
   "outputs": [
    {
     "data": {
      "text/html": [
       "<div>\n",
       "<style scoped>\n",
       "    .dataframe tbody tr th:only-of-type {\n",
       "        vertical-align: middle;\n",
       "    }\n",
       "\n",
       "    .dataframe tbody tr th {\n",
       "        vertical-align: top;\n",
       "    }\n",
       "\n",
       "    .dataframe thead th {\n",
       "        text-align: right;\n",
       "    }\n",
       "</style>\n",
       "<table border=\"1\" class=\"dataframe\">\n",
       "  <thead>\n",
       "    <tr style=\"text-align: right;\">\n",
       "      <th></th>\n",
       "      <th>review_score</th>\n",
       "      <th>review_content</th>\n",
       "    </tr>\n",
       "  </thead>\n",
       "  <tbody>\n",
       "    <tr>\n",
       "      <th>3</th>\n",
       "      <td>0.70</td>\n",
       "      <td>Whether audiences will get behind The Lightnin...</td>\n",
       "    </tr>\n",
       "    <tr>\n",
       "      <th>6</th>\n",
       "      <td>0.25</td>\n",
       "      <td>Harry Potter knockoffs don't come more transpa...</td>\n",
       "    </tr>\n",
       "    <tr>\n",
       "      <th>7</th>\n",
       "      <td>0.70</td>\n",
       "      <td>Percy Jackson isn't a great movie, but it's a ...</td>\n",
       "    </tr>\n",
       "    <tr>\n",
       "      <th>8</th>\n",
       "      <td>0.80</td>\n",
       "      <td>Fun, brisk and imaginative</td>\n",
       "    </tr>\n",
       "    <tr>\n",
       "      <th>9</th>\n",
       "      <td>0.60</td>\n",
       "      <td>Crammed with dragons, set-destroying fights an...</td>\n",
       "    </tr>\n",
       "  </tbody>\n",
       "</table>\n",
       "</div>"
      ],
      "text/plain": [
       "   review_score                                     review_content\n",
       "3          0.70  Whether audiences will get behind The Lightnin...\n",
       "6          0.25  Harry Potter knockoffs don't come more transpa...\n",
       "7          0.70  Percy Jackson isn't a great movie, but it's a ...\n",
       "8          0.80                         Fun, brisk and imaginative\n",
       "9          0.60  Crammed with dragons, set-destroying fights an..."
      ]
     },
     "execution_count": 10,
     "metadata": {},
     "output_type": "execute_result"
    }
   ],
   "source": [
    "df.head(5)"
   ]
  },
  {
   "cell_type": "code",
   "execution_count": 11,
   "id": "2b7b8932",
   "metadata": {
    "ExecuteTime": {
     "end_time": "2025-06-23T20:39:07.393503Z",
     "start_time": "2025-06-23T20:39:07.350377Z"
    }
   },
   "outputs": [
    {
     "name": "stdout",
     "output_type": "stream",
     "text": [
      "Mediana de review_score: 0.66\n"
     ]
    }
   ],
   "source": [
    "# Calcular la mediana\n",
    "median_score = df['review_score'].median()\n",
    "print(\"Mediana de review_score:\", round(median_score, 3))"
   ]
  },
  {
   "cell_type": "code",
   "execution_count": 12,
   "id": "c434c061",
   "metadata": {
    "ExecuteTime": {
     "end_time": "2025-06-23T20:39:22.014146Z",
     "start_time": "2025-06-23T20:39:21.896349Z"
    }
   },
   "outputs": [],
   "source": [
    "# Clasificar como 'positivo' si el score es mayor que la mediana, si no, 'negativo'\n",
    "df['sentiment'] = df['review_score'].apply(\n",
    "    lambda x: 'positivo' if x >= median_score else 'negativo'\n",
    ")"
   ]
  },
  {
   "cell_type": "code",
   "execution_count": 13,
   "id": "4cd610fa",
   "metadata": {
    "ExecuteTime": {
     "end_time": "2025-06-23T20:39:31.011817Z",
     "start_time": "2025-06-23T20:39:30.997848Z"
    }
   },
   "outputs": [
    {
     "data": {
      "text/html": [
       "<div>\n",
       "<style scoped>\n",
       "    .dataframe tbody tr th:only-of-type {\n",
       "        vertical-align: middle;\n",
       "    }\n",
       "\n",
       "    .dataframe tbody tr th {\n",
       "        vertical-align: top;\n",
       "    }\n",
       "\n",
       "    .dataframe thead th {\n",
       "        text-align: right;\n",
       "    }\n",
       "</style>\n",
       "<table border=\"1\" class=\"dataframe\">\n",
       "  <thead>\n",
       "    <tr style=\"text-align: right;\">\n",
       "      <th></th>\n",
       "      <th>review_score</th>\n",
       "      <th>review_content</th>\n",
       "      <th>sentiment</th>\n",
       "    </tr>\n",
       "  </thead>\n",
       "  <tbody>\n",
       "    <tr>\n",
       "      <th>3</th>\n",
       "      <td>0.70</td>\n",
       "      <td>Whether audiences will get behind The Lightnin...</td>\n",
       "      <td>positivo</td>\n",
       "    </tr>\n",
       "    <tr>\n",
       "      <th>6</th>\n",
       "      <td>0.25</td>\n",
       "      <td>Harry Potter knockoffs don't come more transpa...</td>\n",
       "      <td>negativo</td>\n",
       "    </tr>\n",
       "    <tr>\n",
       "      <th>7</th>\n",
       "      <td>0.70</td>\n",
       "      <td>Percy Jackson isn't a great movie, but it's a ...</td>\n",
       "      <td>positivo</td>\n",
       "    </tr>\n",
       "    <tr>\n",
       "      <th>8</th>\n",
       "      <td>0.80</td>\n",
       "      <td>Fun, brisk and imaginative</td>\n",
       "      <td>positivo</td>\n",
       "    </tr>\n",
       "    <tr>\n",
       "      <th>9</th>\n",
       "      <td>0.60</td>\n",
       "      <td>Crammed with dragons, set-destroying fights an...</td>\n",
       "      <td>negativo</td>\n",
       "    </tr>\n",
       "    <tr>\n",
       "      <th>...</th>\n",
       "      <td>...</td>\n",
       "      <td>...</td>\n",
       "      <td>...</td>\n",
       "    </tr>\n",
       "    <tr>\n",
       "      <th>1130006</th>\n",
       "      <td>0.80</td>\n",
       "      <td>As a spectacular war film with a powerful mora...</td>\n",
       "      <td>positivo</td>\n",
       "    </tr>\n",
       "    <tr>\n",
       "      <th>1130013</th>\n",
       "      <td>0.70</td>\n",
       "      <td>Seen today, it's not only a startling indictme...</td>\n",
       "      <td>positivo</td>\n",
       "    </tr>\n",
       "    <tr>\n",
       "      <th>1130014</th>\n",
       "      <td>0.86</td>\n",
       "      <td>A rousing visual spectacle that's a prequel of...</td>\n",
       "      <td>positivo</td>\n",
       "    </tr>\n",
       "    <tr>\n",
       "      <th>1130015</th>\n",
       "      <td>0.70</td>\n",
       "      <td>A simple two-act story: Prelude to war, and th...</td>\n",
       "      <td>positivo</td>\n",
       "    </tr>\n",
       "    <tr>\n",
       "      <th>1130016</th>\n",
       "      <td>0.60</td>\n",
       "      <td>Rides the line between being a pure artifact o...</td>\n",
       "      <td>negativo</td>\n",
       "    </tr>\n",
       "  </tbody>\n",
       "</table>\n",
       "<p>758709 rows × 3 columns</p>\n",
       "</div>"
      ],
      "text/plain": [
       "         review_score                                     review_content  \\\n",
       "3                0.70  Whether audiences will get behind The Lightnin...   \n",
       "6                0.25  Harry Potter knockoffs don't come more transpa...   \n",
       "7                0.70  Percy Jackson isn't a great movie, but it's a ...   \n",
       "8                0.80                         Fun, brisk and imaginative   \n",
       "9                0.60  Crammed with dragons, set-destroying fights an...   \n",
       "...               ...                                                ...   \n",
       "1130006          0.80  As a spectacular war film with a powerful mora...   \n",
       "1130013          0.70  Seen today, it's not only a startling indictme...   \n",
       "1130014          0.86  A rousing visual spectacle that's a prequel of...   \n",
       "1130015          0.70  A simple two-act story: Prelude to war, and th...   \n",
       "1130016          0.60  Rides the line between being a pure artifact o...   \n",
       "\n",
       "        sentiment  \n",
       "3        positivo  \n",
       "6        negativo  \n",
       "7        positivo  \n",
       "8        positivo  \n",
       "9        negativo  \n",
       "...           ...  \n",
       "1130006  positivo  \n",
       "1130013  positivo  \n",
       "1130014  positivo  \n",
       "1130015  positivo  \n",
       "1130016  negativo  \n",
       "\n",
       "[758709 rows x 3 columns]"
      ]
     },
     "execution_count": 13,
     "metadata": {},
     "output_type": "execute_result"
    }
   ],
   "source": [
    "df"
   ]
  },
  {
   "cell_type": "code",
   "execution_count": 14,
   "id": "163ca8b1",
   "metadata": {
    "ExecuteTime": {
     "end_time": "2025-06-23T20:39:41.001836Z",
     "start_time": "2025-06-23T20:39:40.949597Z"
    }
   },
   "outputs": [
    {
     "name": "stdout",
     "output_type": "stream",
     "text": [
      "sentiment\n",
      "positivo    386805\n",
      "negativo    371904\n",
      "Name: count, dtype: int64\n"
     ]
    }
   ],
   "source": [
    "print(df['sentiment'].value_counts())"
   ]
  },
  {
   "cell_type": "code",
   "execution_count": 22,
   "id": "7d95f466",
   "metadata": {},
   "outputs": [
    {
     "data": {
      "text/html": [
       "<div>\n",
       "<style scoped>\n",
       "    .dataframe tbody tr th:only-of-type {\n",
       "        vertical-align: middle;\n",
       "    }\n",
       "\n",
       "    .dataframe tbody tr th {\n",
       "        vertical-align: top;\n",
       "    }\n",
       "\n",
       "    .dataframe thead th {\n",
       "        text-align: right;\n",
       "    }\n",
       "</style>\n",
       "<table border=\"1\" class=\"dataframe\">\n",
       "  <thead>\n",
       "    <tr style=\"text-align: right;\">\n",
       "      <th></th>\n",
       "      <th>review_content</th>\n",
       "      <th>sentiment</th>\n",
       "    </tr>\n",
       "  </thead>\n",
       "  <tbody>\n",
       "    <tr>\n",
       "      <th>3</th>\n",
       "      <td>Whether audiences will get behind The Lightnin...</td>\n",
       "      <td>1</td>\n",
       "    </tr>\n",
       "    <tr>\n",
       "      <th>6</th>\n",
       "      <td>Harry Potter knockoffs don't come more transpa...</td>\n",
       "      <td>0</td>\n",
       "    </tr>\n",
       "    <tr>\n",
       "      <th>7</th>\n",
       "      <td>Percy Jackson isn't a great movie, but it's a ...</td>\n",
       "      <td>1</td>\n",
       "    </tr>\n",
       "    <tr>\n",
       "      <th>8</th>\n",
       "      <td>Fun, brisk and imaginative</td>\n",
       "      <td>1</td>\n",
       "    </tr>\n",
       "    <tr>\n",
       "      <th>9</th>\n",
       "      <td>Crammed with dragons, set-destroying fights an...</td>\n",
       "      <td>0</td>\n",
       "    </tr>\n",
       "  </tbody>\n",
       "</table>\n",
       "</div>"
      ],
      "text/plain": [
       "                                      review_content  sentiment\n",
       "3  Whether audiences will get behind The Lightnin...          1\n",
       "6  Harry Potter knockoffs don't come more transpa...          0\n",
       "7  Percy Jackson isn't a great movie, but it's a ...          1\n",
       "8                         Fun, brisk and imaginative          1\n",
       "9  Crammed with dragons, set-destroying fights an...          0"
      ]
     },
     "execution_count": 22,
     "metadata": {},
     "output_type": "execute_result"
    }
   ],
   "source": [
    "df = df[['review_content', 'sentiment']]\n",
    "target_map = {'positivo': 1, 'negativo': 0}\n",
    "df['sentiment'] = df['sentiment'].map(target_map)\n",
    "df.head(5)"
   ]
  },
  {
   "cell_type": "code",
   "execution_count": 24,
   "id": "499f70a5",
   "metadata": {},
   "outputs": [],
   "source": [
    "df_train, df_test = train_test_split(df)"
   ]
  },
  {
   "cell_type": "code",
   "execution_count": 25,
   "id": "941a9ead",
   "metadata": {},
   "outputs": [
    {
     "data": {
      "text/html": [
       "<div>\n",
       "<style scoped>\n",
       "    .dataframe tbody tr th:only-of-type {\n",
       "        vertical-align: middle;\n",
       "    }\n",
       "\n",
       "    .dataframe tbody tr th {\n",
       "        vertical-align: top;\n",
       "    }\n",
       "\n",
       "    .dataframe thead th {\n",
       "        text-align: right;\n",
       "    }\n",
       "</style>\n",
       "<table border=\"1\" class=\"dataframe\">\n",
       "  <thead>\n",
       "    <tr style=\"text-align: right;\">\n",
       "      <th></th>\n",
       "      <th>review_content</th>\n",
       "      <th>sentiment</th>\n",
       "    </tr>\n",
       "  </thead>\n",
       "  <tbody>\n",
       "    <tr>\n",
       "      <th>907753</th>\n",
       "      <td>Decline with regrets...</td>\n",
       "      <td>0</td>\n",
       "    </tr>\n",
       "    <tr>\n",
       "      <th>125512</th>\n",
       "      <td>87 minutes of pure joy/</td>\n",
       "      <td>1</td>\n",
       "    </tr>\n",
       "    <tr>\n",
       "      <th>72387</th>\n",
       "      <td>Here's the bottom line: Denis Cooverman might ...</td>\n",
       "      <td>0</td>\n",
       "    </tr>\n",
       "    <tr>\n",
       "      <th>704865</th>\n",
       "      <td>Woo has created a resounding epic, blending a ...</td>\n",
       "      <td>1</td>\n",
       "    </tr>\n",
       "    <tr>\n",
       "      <th>515060</th>\n",
       "      <td>Ill-balanced between a younger and older child...</td>\n",
       "      <td>0</td>\n",
       "    </tr>\n",
       "    <tr>\n",
       "      <th>...</th>\n",
       "      <td>...</td>\n",
       "      <td>...</td>\n",
       "    </tr>\n",
       "    <tr>\n",
       "      <th>399278</th>\n",
       "      <td>Buoyed by Steve Coogan's unapologetically go-f...</td>\n",
       "      <td>0</td>\n",
       "    </tr>\n",
       "    <tr>\n",
       "      <th>1087196</th>\n",
       "      <td>The movie packs a powerful, emotional punch, a...</td>\n",
       "      <td>1</td>\n",
       "    </tr>\n",
       "    <tr>\n",
       "      <th>48719</th>\n",
       "      <td>A guilty pleasure</td>\n",
       "      <td>1</td>\n",
       "    </tr>\n",
       "    <tr>\n",
       "      <th>426692</th>\n",
       "      <td>Ms. Kidman, in a performance of astounding bra...</td>\n",
       "      <td>1</td>\n",
       "    </tr>\n",
       "    <tr>\n",
       "      <th>521734</th>\n",
       "      <td>Crackling dialogue, surprising intelligence an...</td>\n",
       "      <td>1</td>\n",
       "    </tr>\n",
       "  </tbody>\n",
       "</table>\n",
       "<p>569031 rows × 2 columns</p>\n",
       "</div>"
      ],
      "text/plain": [
       "                                            review_content  sentiment\n",
       "907753                             Decline with regrets...          0\n",
       "125512                             87 minutes of pure joy/          1\n",
       "72387    Here's the bottom line: Denis Cooverman might ...          0\n",
       "704865   Woo has created a resounding epic, blending a ...          1\n",
       "515060   Ill-balanced between a younger and older child...          0\n",
       "...                                                    ...        ...\n",
       "399278   Buoyed by Steve Coogan's unapologetically go-f...          0\n",
       "1087196  The movie packs a powerful, emotional punch, a...          1\n",
       "48719                                    A guilty pleasure          1\n",
       "426692   Ms. Kidman, in a performance of astounding bra...          1\n",
       "521734   Crackling dialogue, surprising intelligence an...          1\n",
       "\n",
       "[569031 rows x 2 columns]"
      ]
     },
     "execution_count": 25,
     "metadata": {},
     "output_type": "execute_result"
    }
   ],
   "source": [
    "df_train "
   ]
  },
  {
   "cell_type": "code",
   "execution_count": 26,
   "id": "f9b3150a",
   "metadata": {},
   "outputs": [
    {
     "data": {
      "text/html": [
       "<div>\n",
       "<style scoped>\n",
       "    .dataframe tbody tr th:only-of-type {\n",
       "        vertical-align: middle;\n",
       "    }\n",
       "\n",
       "    .dataframe tbody tr th {\n",
       "        vertical-align: top;\n",
       "    }\n",
       "\n",
       "    .dataframe thead th {\n",
       "        text-align: right;\n",
       "    }\n",
       "</style>\n",
       "<table border=\"1\" class=\"dataframe\">\n",
       "  <thead>\n",
       "    <tr style=\"text-align: right;\">\n",
       "      <th></th>\n",
       "      <th>review_content</th>\n",
       "      <th>sentiment</th>\n",
       "    </tr>\n",
       "  </thead>\n",
       "  <tbody>\n",
       "    <tr>\n",
       "      <th>466444</th>\n",
       "      <td>Jack and Jill is total bust, a stupefyingly un...</td>\n",
       "      <td>0</td>\n",
       "    </tr>\n",
       "    <tr>\n",
       "      <th>376625</th>\n",
       "      <td>While beautiful, both the film and its female ...</td>\n",
       "      <td>0</td>\n",
       "    </tr>\n",
       "    <tr>\n",
       "      <th>447675</th>\n",
       "      <td>a sumptuous film ... with clever social commen...</td>\n",
       "      <td>1</td>\n",
       "    </tr>\n",
       "    <tr>\n",
       "      <th>411084</th>\n",
       "      <td>If you like gory action shlock, you should giv...</td>\n",
       "      <td>0</td>\n",
       "    </tr>\n",
       "    <tr>\n",
       "      <th>16487</th>\n",
       "      <td>People running into each other can be funny, b...</td>\n",
       "      <td>0</td>\n",
       "    </tr>\n",
       "    <tr>\n",
       "      <th>...</th>\n",
       "      <td>...</td>\n",
       "      <td>...</td>\n",
       "    </tr>\n",
       "    <tr>\n",
       "      <th>118869</th>\n",
       "      <td>In the end, Alice Through the Looking Glass ne...</td>\n",
       "      <td>0</td>\n",
       "    </tr>\n",
       "    <tr>\n",
       "      <th>756155</th>\n",
       "      <td>Released over Super Bowl weekend, it makes per...</td>\n",
       "      <td>0</td>\n",
       "    </tr>\n",
       "    <tr>\n",
       "      <th>51741</th>\n",
       "      <td>A clever blend of fact and fiction.</td>\n",
       "      <td>1</td>\n",
       "    </tr>\n",
       "    <tr>\n",
       "      <th>665683</th>\n",
       "      <td>The predictable ending could have been improve...</td>\n",
       "      <td>0</td>\n",
       "    </tr>\n",
       "    <tr>\n",
       "      <th>787571</th>\n",
       "      <td>While the thematic scheme may be ancient and r...</td>\n",
       "      <td>1</td>\n",
       "    </tr>\n",
       "  </tbody>\n",
       "</table>\n",
       "<p>189678 rows × 2 columns</p>\n",
       "</div>"
      ],
      "text/plain": [
       "                                           review_content  sentiment\n",
       "466444  Jack and Jill is total bust, a stupefyingly un...          0\n",
       "376625  While beautiful, both the film and its female ...          0\n",
       "447675  a sumptuous film ... with clever social commen...          1\n",
       "411084  If you like gory action shlock, you should giv...          0\n",
       "16487   People running into each other can be funny, b...          0\n",
       "...                                                   ...        ...\n",
       "118869  In the end, Alice Through the Looking Glass ne...          0\n",
       "756155  Released over Super Bowl weekend, it makes per...          0\n",
       "51741                 A clever blend of fact and fiction.          1\n",
       "665683  The predictable ending could have been improve...          0\n",
       "787571  While the thematic scheme may be ancient and r...          1\n",
       "\n",
       "[189678 rows x 2 columns]"
      ]
     },
     "execution_count": 26,
     "metadata": {},
     "output_type": "execute_result"
    }
   ],
   "source": [
    "df_test "
   ]
  },
  {
   "cell_type": "code",
   "execution_count": 27,
   "id": "0f622925",
   "metadata": {},
   "outputs": [],
   "source": [
    "vectorizer = TfidfVectorizer(max_features=2000)\n",
    "\n",
    "X_train = vectorizer.fit_transform(df_train['review_content'])\n",
    "X_test = vectorizer.transform(df_test['review_content'])"
   ]
  }
 ],
 "metadata": {
  "kernelspec": {
   "display_name": "Python 3",
   "language": "python",
   "name": "python3"
  },
  "language_info": {
   "codemirror_mode": {
    "name": "ipython",
    "version": 3
   },
   "file_extension": ".py",
   "mimetype": "text/x-python",
   "name": "python",
   "nbconvert_exporter": "python",
   "pygments_lexer": "ipython3",
   "version": "3.12.10"
  }
 },
 "nbformat": 4,
 "nbformat_minor": 5
}
